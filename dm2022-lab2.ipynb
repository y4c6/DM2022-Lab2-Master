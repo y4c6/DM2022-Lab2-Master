{
 "cells": [
  {
   "cell_type": "markdown",
   "id": "d741797a",
   "metadata": {
    "id": "uuutyCx4YTpX",
    "papermill": {
     "duration": 0.032758,
     "end_time": "2022-11-13T14:26:06.561825",
     "exception": false,
     "start_time": "2022-11-13T14:26:06.529067",
     "status": "completed"
    },
    "tags": []
   },
   "source": [
    "# Data Mining Lab 2\n",
    "In this lab session we will focus on the use of Neural Word Embeddings "
   ]
  },
  {
   "cell_type": "markdown",
   "id": "894a2cac",
   "metadata": {
    "id": "ledffNYYYTpX",
    "papermill": {
     "duration": 0.028046,
     "end_time": "2022-11-13T14:26:06.618661",
     "exception": false,
     "start_time": "2022-11-13T14:26:06.590615",
     "status": "completed"
    },
    "tags": []
   },
   "source": [
    "## Table of Contents\n",
    "1. Data preparation\n",
    "2. Feature engineering\n",
    "3. Model\n",
    "4. Results evaluation\n",
    "5. Other things you could try\n",
    "6. Deep Learning\n",
    "7. Word to Vector\n",
    "8. Clustering\n",
    "9. High-dimension Visualization\n",
    "\n"
   ]
  },
  {
   "cell_type": "markdown",
   "id": "9c5396ff",
   "metadata": {
    "papermill": {
     "duration": 0.0253,
     "end_time": "2022-11-13T14:26:06.676989",
     "exception": false,
     "start_time": "2022-11-13T14:26:06.651689",
     "status": "completed"
    },
    "tags": []
   },
   "source": [
    "### Necessary Library Requirements:\n",
    "\n",
    "#### Same as Lab1:\n",
    "- [Jupyter](http://jupyter.org/) (Strongly recommended but not required)\n",
    "    - Install via `pip3 install jupyter` and use `jupyter notebook` in terminal to run\n",
    "- [Scikit Learn](http://scikit-learn.org/stable/index.html)\n",
    "    - Install via `pip3 sklearn` from a terminal\n",
    "- [Pandas](http://pandas.pydata.org/)\n",
    "    - Install via `pip3 install pandas` from a terminal\n",
    "- [Numpy](http://www.numpy.org/)\n",
    "    - Install via `pip3 install numpy` from a terminal\n",
    "- [Matplotlib](https://matplotlib.org/)\n",
    "    - Install via `pip3 maplotlib` from a terminal\n",
    "- [Plotly](https://plot.ly/)\n",
    "    - Install via `pip3 install plotly` from a terminal\n",
    "- [Seaborn](https://seaborn.pydata.org/)\n",
    "    - Install and signup for `seaborn`\n",
    "- [NLTK](http://www.nltk.org/)\n",
    "    - Install via `pip3 install nltk` from a terminal\n",
    "\n",
    "#### New Libraries to install:\n",
    "- [Gensim](https://pypi.org/project/gensim/)\n",
    "    - Install via `pip3 install gensim`\n",
    "\n",
    "- [tensorflow](https://www.tensorflow.org/)\n",
    "    - Install via `pip3 install tensorflow`\n",
    "    - Also install `pip3 install tensorflow-hub`\n",
    "\n",
    "- [Keras](https://keras.io/)\n",
    "    - Install via `pip3 install keras`"
   ]
  },
  {
   "cell_type": "markdown",
   "id": "8b907cc0",
   "metadata": {
    "id": "LIpAqCvMYTpX",
    "papermill": {
     "duration": 0.025717,
     "end_time": "2022-11-13T14:26:06.727724",
     "exception": false,
     "start_time": "2022-11-13T14:26:06.702007",
     "status": "completed"
    },
    "tags": []
   },
   "source": [
    "---\n",
    "## Introduction"
   ]
  },
  {
   "cell_type": "markdown",
   "id": "3f2fa28c",
   "metadata": {
    "id": "n2paPeNbYTpX",
    "papermill": {
     "duration": 0.028583,
     "end_time": "2022-11-13T14:26:06.785481",
     "exception": false,
     "start_time": "2022-11-13T14:26:06.756898",
     "status": "completed"
    },
    "tags": []
   },
   "source": [
    "**Dataset:** [SemEval 2017 Task](https://competitions.codalab.org/competitions/16380)\n",
    "\n",
    "**Task:** Classify text data into 4 different emotions using word embedding and other deep information retrieval approaches.\n",
    "\n",
    "![pic0](pics/pic0.png)"
   ]
  },
  {
   "cell_type": "markdown",
   "id": "ef0820d5",
   "metadata": {
    "id": "op_X7pR-YTpX",
    "papermill": {
     "duration": 0.029632,
     "end_time": "2022-11-13T14:26:06.840516",
     "exception": false,
     "start_time": "2022-11-13T14:26:06.810884",
     "status": "completed"
    },
    "tags": []
   },
   "source": [
    "---\n",
    "## 1. Data Preparation"
   ]
  },
  {
   "cell_type": "markdown",
   "id": "5af2ec83",
   "metadata": {
    "id": "ID-8I1ELYTpX",
    "papermill": {
     "duration": 0.025319,
     "end_time": "2022-11-13T14:26:06.894284",
     "exception": false,
     "start_time": "2022-11-13T14:26:06.868965",
     "status": "completed"
    },
    "tags": []
   },
   "source": [
    "Before beggining the lab, please make sure to download the [Google News Dataset](https://drive.google.com/file/d/0B7XkCwpI5KDYNlNUTTlSS21pQmM/edit) and place it in a folder named \"GoogleNews\" in the same directory as this file."
   ]
  },
  {
   "cell_type": "markdown",
   "id": "2e3bd26e",
   "metadata": {
    "id": "pgoEbZzSYTpX",
    "papermill": {
     "duration": 0.029538,
     "end_time": "2022-11-13T14:26:06.948955",
     "exception": false,
     "start_time": "2022-11-13T14:26:06.919417",
     "status": "completed"
    },
    "tags": []
   },
   "source": [
    "## 1.1 Load data\n",
    "\n",
    "We start by loading the csv files into a single pandas dataframe for training and one for testing."
   ]
  },
  {
   "cell_type": "code",
   "execution_count": 1,
   "id": "7a424b38",
   "metadata": {
    "execution": {
     "iopub.execute_input": "2022-11-13T14:26:07.009696Z",
     "iopub.status.busy": "2022-11-13T14:26:07.008683Z",
     "iopub.status.idle": "2022-11-13T14:26:07.085229Z",
     "shell.execute_reply": "2022-11-13T14:26:07.084009Z"
    },
    "id": "anfjcPSSYTpX",
    "papermill": {
     "duration": 0.108603,
     "end_time": "2022-11-13T14:26:07.088620",
     "exception": false,
     "start_time": "2022-11-13T14:26:06.980017",
     "status": "completed"
    },
    "tags": []
   },
   "outputs": [],
   "source": [
    "import pandas as pd\n",
    "\n",
    "### training data\n",
    "anger_train = pd.read_csv(\"../input/dm2022-lab2-data/data/semeval/train/anger-ratings-0to1.train.txt\",\n",
    "                         sep=\"\\t\", header=None,names=[\"id\", \"text\", \"emotion\", \"intensity\"])\n",
    "sadness_train = pd.read_csv(\"../input/dm2022-lab2-data/data/semeval/train/sadness-ratings-0to1.train.txt\",\n",
    "                         sep=\"\\t\", header=None, names=[\"id\", \"text\", \"emotion\", \"intensity\"])\n",
    "fear_train = pd.read_csv(\"../input/dm2022-lab2-data/data/semeval/train/fear-ratings-0to1.train.txt\",\n",
    "                         sep=\"\\t\", header=None, names=[\"id\", \"text\", \"emotion\", \"intensity\"])\n",
    "joy_train = pd.read_csv(\"../input/dm2022-lab2-data/data/semeval/train/joy-ratings-0to1.train.txt\",\n",
    "                         sep=\"\\t\", header=None, names=[\"id\", \"text\", \"emotion\", \"intensity\"])"
   ]
  },
  {
   "cell_type": "code",
   "execution_count": 2,
   "id": "00c4fc09",
   "metadata": {
    "execution": {
     "iopub.execute_input": "2022-11-13T14:26:07.142823Z",
     "iopub.status.busy": "2022-11-13T14:26:07.142384Z",
     "iopub.status.idle": "2022-11-13T14:26:07.151854Z",
     "shell.execute_reply": "2022-11-13T14:26:07.150776Z"
    },
    "id": "yVc2T5MIYTpX",
    "papermill": {
     "duration": 0.039432,
     "end_time": "2022-11-13T14:26:07.154110",
     "exception": false,
     "start_time": "2022-11-13T14:26:07.114678",
     "status": "completed"
    },
    "tags": []
   },
   "outputs": [],
   "source": [
    "# combine 4 sub-dataset\n",
    "train_df = pd.concat([anger_train, fear_train, joy_train, sadness_train], ignore_index=True)"
   ]
  },
  {
   "cell_type": "code",
   "execution_count": 3,
   "id": "77f3f550",
   "metadata": {
    "execution": {
     "iopub.execute_input": "2022-11-13T14:26:07.207476Z",
     "iopub.status.busy": "2022-11-13T14:26:07.206108Z",
     "iopub.status.idle": "2022-11-13T14:26:07.273027Z",
     "shell.execute_reply": "2022-11-13T14:26:07.271687Z"
    },
    "id": "Kw8bGMv7YTpX",
    "outputId": "9f6f7052-302e-4794-ef69-b84450b61b36",
    "papermill": {
     "duration": 0.09705,
     "end_time": "2022-11-13T14:26:07.276604",
     "exception": false,
     "start_time": "2022-11-13T14:26:07.179554",
     "status": "completed"
    },
    "tags": []
   },
   "outputs": [
    {
     "data": {
      "text/html": [
       "<div>\n",
       "<style scoped>\n",
       "    .dataframe tbody tr th:only-of-type {\n",
       "        vertical-align: middle;\n",
       "    }\n",
       "\n",
       "    .dataframe tbody tr th {\n",
       "        vertical-align: top;\n",
       "    }\n",
       "\n",
       "    .dataframe thead th {\n",
       "        text-align: right;\n",
       "    }\n",
       "</style>\n",
       "<table border=\"1\" class=\"dataframe\">\n",
       "  <thead>\n",
       "    <tr style=\"text-align: right;\">\n",
       "      <th></th>\n",
       "      <th>id</th>\n",
       "      <th>text</th>\n",
       "      <th>emotion</th>\n",
       "      <th>intensity</th>\n",
       "    </tr>\n",
       "  </thead>\n",
       "  <tbody>\n",
       "    <tr>\n",
       "      <th>0</th>\n",
       "      <td>10000</td>\n",
       "      <td>How the fu*k! Who the heck! moved my fridge!.....</td>\n",
       "      <td>anger</td>\n",
       "      <td>0.938</td>\n",
       "    </tr>\n",
       "    <tr>\n",
       "      <th>1</th>\n",
       "      <td>10001</td>\n",
       "      <td>So my Indian Uber driver just called someone t...</td>\n",
       "      <td>anger</td>\n",
       "      <td>0.896</td>\n",
       "    </tr>\n",
       "    <tr>\n",
       "      <th>2</th>\n",
       "      <td>10002</td>\n",
       "      <td>@DPD_UK I asked for my parcel to be delivered ...</td>\n",
       "      <td>anger</td>\n",
       "      <td>0.896</td>\n",
       "    </tr>\n",
       "    <tr>\n",
       "      <th>3</th>\n",
       "      <td>10003</td>\n",
       "      <td>so ef whichever butt wipe pulled the fire alar...</td>\n",
       "      <td>anger</td>\n",
       "      <td>0.896</td>\n",
       "    </tr>\n",
       "    <tr>\n",
       "      <th>4</th>\n",
       "      <td>10004</td>\n",
       "      <td>Don't join @BTCare they put the phone down on ...</td>\n",
       "      <td>anger</td>\n",
       "      <td>0.896</td>\n",
       "    </tr>\n",
       "  </tbody>\n",
       "</table>\n",
       "</div>"
      ],
      "text/plain": [
       "      id                                               text emotion  intensity\n",
       "0  10000  How the fu*k! Who the heck! moved my fridge!.....   anger      0.938\n",
       "1  10001  So my Indian Uber driver just called someone t...   anger      0.896\n",
       "2  10002  @DPD_UK I asked for my parcel to be delivered ...   anger      0.896\n",
       "3  10003  so ef whichever butt wipe pulled the fire alar...   anger      0.896\n",
       "4  10004  Don't join @BTCare they put the phone down on ...   anger      0.896"
      ]
     },
     "execution_count": 3,
     "metadata": {},
     "output_type": "execute_result"
    }
   ],
   "source": [
    "### testing data\n",
    "anger_test = pd.read_csv(\"../input/dm2022-lab2-data/data/semeval/dev/anger-ratings-0to1.dev.gold.txt\",\n",
    "                         sep=\"\\t\", header=None, names=[\"id\", \"text\", \"emotion\", \"intensity\"])\n",
    "sadness_test = pd.read_csv(\"../input/dm2022-lab2-data/data/semeval/dev/sadness-ratings-0to1.dev.gold.txt\",\n",
    "                         sep=\"\\t\", header=None, names=[\"id\", \"text\", \"emotion\", \"intensity\"])\n",
    "fear_test = pd.read_csv(\"../input/dm2022-lab2-data/data/semeval/dev/fear-ratings-0to1.dev.gold.txt\",\n",
    "                         sep=\"\\t\", header=None, names=[\"id\", \"text\", \"emotion\", \"intensity\"])\n",
    "joy_test = pd.read_csv(\"../input/dm2022-lab2-data/data/semeval/dev/joy-ratings-0to1.dev.gold.txt\",\n",
    "                         sep=\"\\t\", header=None, names=[\"id\", \"text\", \"emotion\", \"intensity\"])\n",
    "\n",
    "# combine 4 sub-dataset\n",
    "test_df = pd.concat([anger_test, fear_test, joy_test, sadness_test], ignore_index=True)\n",
    "train_df.head()"
   ]
  },
  {
   "cell_type": "code",
   "execution_count": 4,
   "id": "99f1c5f8",
   "metadata": {
    "execution": {
     "iopub.execute_input": "2022-11-13T14:26:07.330257Z",
     "iopub.status.busy": "2022-11-13T14:26:07.329758Z",
     "iopub.status.idle": "2022-11-13T14:26:07.340453Z",
     "shell.execute_reply": "2022-11-13T14:26:07.338848Z"
    },
    "id": "HBHwcL8sYTpX",
    "papermill": {
     "duration": 0.040692,
     "end_time": "2022-11-13T14:26:07.342919",
     "exception": false,
     "start_time": "2022-11-13T14:26:07.302227",
     "status": "completed"
    },
    "tags": []
   },
   "outputs": [],
   "source": [
    "# shuffle dataset\n",
    "train_df = train_df.sample(frac=1)\n",
    "test_df = test_df.sample(frac=1)"
   ]
  },
  {
   "cell_type": "code",
   "execution_count": 5,
   "id": "43002cda",
   "metadata": {
    "execution": {
     "iopub.execute_input": "2022-11-13T14:26:07.394935Z",
     "iopub.status.busy": "2022-11-13T14:26:07.394455Z",
     "iopub.status.idle": "2022-11-13T14:26:07.401969Z",
     "shell.execute_reply": "2022-11-13T14:26:07.400257Z"
    },
    "id": "9w_cDUwCYTpX",
    "outputId": "3582ac44-1f5f-4cb2-b833-d477f152461a",
    "papermill": {
     "duration": 0.036923,
     "end_time": "2022-11-13T14:26:07.404666",
     "exception": false,
     "start_time": "2022-11-13T14:26:07.367743",
     "status": "completed"
    },
    "scrolled": true,
    "tags": []
   },
   "outputs": [
    {
     "name": "stdout",
     "output_type": "stream",
     "text": [
      "Shape of Training df:  (3613, 4)\n",
      "Shape of Testing df:  (347, 4)\n"
     ]
    }
   ],
   "source": [
    "print(\"Shape of Training df: \", train_df.shape)\n",
    "print(\"Shape of Testing df: \", test_df.shape)"
   ]
  },
  {
   "cell_type": "markdown",
   "id": "edc3bd3b",
   "metadata": {
    "id": "escCgU1zYTpX",
    "papermill": {
     "duration": 0.024232,
     "end_time": "2022-11-13T14:26:07.453473",
     "exception": false,
     "start_time": "2022-11-13T14:26:07.429241",
     "status": "completed"
    },
    "tags": []
   },
   "source": [
    "---\n",
    "### ** >>> Exercise 1 (Take home): **  \n",
    "Plot word frequency for Top 30 words in both train and test dataset. (Hint: refer to DM lab 1)\n"
   ]
  },
  {
   "cell_type": "code",
   "execution_count": 6,
   "id": "f8d1beb2",
   "metadata": {
    "execution": {
     "iopub.execute_input": "2022-11-13T14:26:07.505422Z",
     "iopub.status.busy": "2022-11-13T14:26:07.504618Z",
     "iopub.status.idle": "2022-11-13T14:26:08.745279Z",
     "shell.execute_reply": "2022-11-13T14:26:08.743983Z"
    },
    "id": "HoXjet3pYTpo",
    "papermill": {
     "duration": 1.269823,
     "end_time": "2022-11-13T14:26:08.748025",
     "exception": false,
     "start_time": "2022-11-13T14:26:07.478202",
     "status": "completed"
    },
    "tags": []
   },
   "outputs": [
    {
     "data": {
      "text/plain": [
       "array(['the', 'to', 'and', 'you', 'of', 'is', 'it', 'in', 'that', 'my',\n",
       "       'for', 'on', 'be', 'me', 'this', 'so', 'have', 'not', 'just',\n",
       "       'but', 'with', 'at', 'can', 'like', 'all', 'are', 'your', 'was',\n",
       "       'when', 'if'], dtype=object)"
      ]
     },
     "execution_count": 6,
     "metadata": {},
     "output_type": "execute_result"
    }
   ],
   "source": [
    "# Answer here\n",
    "# sklearn.countvectorizer or nltk.tokenizer?\n",
    "\n",
    "def top30words(series):\n",
    "    # concate the columns to only one str\n",
    "    import numpy as np\n",
    "    from sklearn.feature_extraction.text import CountVectorizer\n",
    "    count_vect = CountVectorizer()\n",
    "    # count str words\n",
    "    counts = count_vect.fit_transform(series) \n",
    "    # aggregate \n",
    "    counts_all = np.asarray(counts.sum(axis=0)).reshape(-1) \n",
    "    # return top30words\n",
    "    idx = np.argsort(counts_all)[::-1][:len(counts_all)][:30]\n",
    "    top30 = count_vect.get_feature_names_out()[idx]\n",
    "\n",
    "    return top30\n",
    "\n",
    "top30words(train_df.text)"
   ]
  },
  {
   "cell_type": "markdown",
   "id": "b0359c46",
   "metadata": {
    "id": "_hr8aKhlYTpo",
    "papermill": {
     "duration": 0.024395,
     "end_time": "2022-11-13T14:26:08.797556",
     "exception": false,
     "start_time": "2022-11-13T14:26:08.773161",
     "status": "completed"
    },
    "tags": []
   },
   "source": [
    "---\n",
    "### 1.2 Save data"
   ]
  },
  {
   "cell_type": "markdown",
   "id": "b887d419",
   "metadata": {
    "id": "Zm6GF2VvYTpo",
    "papermill": {
     "duration": 0.024263,
     "end_time": "2022-11-13T14:26:08.847068",
     "exception": false,
     "start_time": "2022-11-13T14:26:08.822805",
     "status": "completed"
    },
    "tags": []
   },
   "source": [
    "We will save our data in Pickle format. The pickle module implements binary protocols for serializing and de-serializing a Python object structure.   \n",
    "  \n",
    "Some advantages for using pickle structure:  \n",
    "* Because it stores the attribute type, it's more convenient for cross-platform use.  \n",
    "* When your data is huge, it could use less space to store also consume less loading time.   "
   ]
  },
  {
   "cell_type": "code",
   "execution_count": 7,
   "id": "6211c3c2",
   "metadata": {
    "execution": {
     "iopub.execute_input": "2022-11-13T14:26:08.898894Z",
     "iopub.status.busy": "2022-11-13T14:26:08.898481Z",
     "iopub.status.idle": "2022-11-13T14:26:08.907573Z",
     "shell.execute_reply": "2022-11-13T14:26:08.906410Z"
    },
    "id": "dZzepBdpYTpo",
    "papermill": {
     "duration": 0.038264,
     "end_time": "2022-11-13T14:26:08.910291",
     "exception": false,
     "start_time": "2022-11-13T14:26:08.872027",
     "status": "completed"
    },
    "tags": []
   },
   "outputs": [],
   "source": [
    "## save to pickle file\n",
    "train_df.to_pickle(\"train_df.pkl\") \n",
    "test_df.to_pickle(\"test_df.pkl\")"
   ]
  },
  {
   "cell_type": "code",
   "execution_count": 8,
   "id": "e28e31b9",
   "metadata": {
    "execution": {
     "iopub.execute_input": "2022-11-13T14:26:08.965482Z",
     "iopub.status.busy": "2022-11-13T14:26:08.964391Z",
     "iopub.status.idle": "2022-11-13T14:26:08.973500Z",
     "shell.execute_reply": "2022-11-13T14:26:08.972162Z"
    },
    "id": "H5uO-kOUYTpo",
    "papermill": {
     "duration": 0.03852,
     "end_time": "2022-11-13T14:26:08.976068",
     "exception": false,
     "start_time": "2022-11-13T14:26:08.937548",
     "status": "completed"
    },
    "tags": []
   },
   "outputs": [],
   "source": [
    "import pandas as pd\n",
    "\n",
    "## load a pickle file\n",
    "train_df = pd.read_pickle(\"train_df.pkl\")\n",
    "test_df = pd.read_pickle(\"test_df.pkl\")"
   ]
  },
  {
   "cell_type": "markdown",
   "id": "44c524c2",
   "metadata": {
    "id": "_sLDcQzeYTpo",
    "papermill": {
     "duration": 0.02713,
     "end_time": "2022-11-13T14:26:09.028660",
     "exception": false,
     "start_time": "2022-11-13T14:26:09.001530",
     "status": "completed"
    },
    "tags": []
   },
   "source": [
    "For more information: https://reurl.cc/0Dzqx (**failed**)"
   ]
  },
  {
   "cell_type": "markdown",
   "id": "47f9c5b5",
   "metadata": {
    "id": "dKHpxTzLYTpo",
    "papermill": {
     "duration": 0.02514,
     "end_time": "2022-11-13T14:26:09.079600",
     "exception": false,
     "start_time": "2022-11-13T14:26:09.054460",
     "status": "completed"
    },
    "tags": []
   },
   "source": [
    "---\n",
    "### 1.3 Exploratory data analysis (EDA)\n",
    "\n",
    "Again, before getting our hands dirty, we need to explore a little bit and understand the data we're dealing with."
   ]
  },
  {
   "cell_type": "code",
   "execution_count": 9,
   "id": "e7e58c77",
   "metadata": {
    "execution": {
     "iopub.execute_input": "2022-11-13T14:26:09.133308Z",
     "iopub.status.busy": "2022-11-13T14:26:09.132888Z",
     "iopub.status.idle": "2022-11-13T14:26:09.149932Z",
     "shell.execute_reply": "2022-11-13T14:26:09.148768Z"
    },
    "id": "mLnEEliCYTpo",
    "outputId": "a253199b-cf8f-4cdc-b677-732be78993a3",
    "papermill": {
     "duration": 0.047463,
     "end_time": "2022-11-13T14:26:09.152649",
     "exception": false,
     "start_time": "2022-11-13T14:26:09.105186",
     "status": "completed"
    },
    "tags": []
   },
   "outputs": [
    {
     "data": {
      "text/plain": [
       "emotion\n",
       "anger       857\n",
       "fear       1147\n",
       "joy         823\n",
       "sadness     786\n",
       "Name: text, dtype: int64"
      ]
     },
     "execution_count": 9,
     "metadata": {},
     "output_type": "execute_result"
    }
   ],
   "source": [
    "# group to find distribution\n",
    "train_df.groupby(['emotion']).count()['text']"
   ]
  },
  {
   "cell_type": "code",
   "execution_count": 10,
   "id": "1d326063",
   "metadata": {
    "execution": {
     "iopub.execute_input": "2022-11-13T14:26:09.207880Z",
     "iopub.status.busy": "2022-11-13T14:26:09.207409Z",
     "iopub.status.idle": "2022-11-13T14:26:09.443969Z",
     "shell.execute_reply": "2022-11-13T14:26:09.442298Z"
    },
    "id": "pcVOe8nYYTpo",
    "outputId": "52c413c9-5a8f-450b-d99a-e541a76e95c7",
    "papermill": {
     "duration": 0.267386,
     "end_time": "2022-11-13T14:26:09.446857",
     "exception": false,
     "start_time": "2022-11-13T14:26:09.179471",
     "status": "completed"
    },
    "tags": []
   },
   "outputs": [
    {
     "data": {
      "image/png": "[encoded data removed]",
      "text/plain": [
       "<Figure size 360x216 with 1 Axes>"
      ]
     },
     "metadata": {
      "needs_background": "light"
     },
     "output_type": "display_data"
    }
   ],
   "source": [
    "%matplotlib inline\n",
    "import numpy as np\n",
    "import matplotlib.pyplot as plt\n",
    "\n",
    "# the histogram of the data\n",
    "labels = train_df['emotion'].unique()\n",
    "post_total = len(train_df)\n",
    "df1 = train_df.groupby(['emotion']).count()['text']\n",
    "df1 = df1.apply(lambda x: round(x*100/post_total,3))\n",
    "\n",
    "#plot\n",
    "fig, ax = plt.subplots(figsize=(5,3))\n",
    "plt.bar(df1.index,df1.values)\n",
    "\n",
    "#arrange\n",
    "plt.ylabel('% of instances')\n",
    "plt.xlabel('Emotion')\n",
    "plt.title('Emotion distribution')\n",
    "plt.grid(True)\n",
    "plt.show()"
   ]
  },
  {
   "cell_type": "markdown",
   "id": "d9464c86",
   "metadata": {
    "id": "B_jGcireYTpo",
    "papermill": {
     "duration": 0.025065,
     "end_time": "2022-11-13T14:26:09.497398",
     "exception": false,
     "start_time": "2022-11-13T14:26:09.472333",
     "status": "completed"
    },
    "tags": []
   },
   "source": [
    "---"
   ]
  },
  {
   "cell_type": "markdown",
   "id": "2e052af7",
   "metadata": {
    "id": "hgHvhTJuYTpo",
    "papermill": {
     "duration": 0.025472,
     "end_time": "2022-11-13T14:26:09.548797",
     "exception": false,
     "start_time": "2022-11-13T14:26:09.523325",
     "status": "completed"
    },
    "tags": []
   },
   "source": [
    "## 2. Feature engineering\n",
    "### Using Bag of Words\n",
    "Using scikit-learn ```CountVectorizer``` perform word frequency and use these as features to train a model.  \n",
    "http://scikit-learn.org/stable/modules/generated/sklearn.feature_extraction.text.CountVectorizer.html"
   ]
  },
  {
   "cell_type": "code",
   "execution_count": 11,
   "id": "61425329",
   "metadata": {
    "execution": {
     "iopub.execute_input": "2022-11-13T14:26:09.603519Z",
     "iopub.status.busy": "2022-11-13T14:26:09.603049Z",
     "iopub.status.idle": "2022-11-13T14:26:09.608956Z",
     "shell.execute_reply": "2022-11-13T14:26:09.607771Z"
    },
    "id": "rbl89LPUYTpo",
    "papermill": {
     "duration": 0.036352,
     "end_time": "2022-11-13T14:26:09.611405",
     "exception": false,
     "start_time": "2022-11-13T14:26:09.575053",
     "status": "completed"
    },
    "tags": []
   },
   "outputs": [],
   "source": [
    "from sklearn.feature_extraction.text import CountVectorizer"
   ]
  },
  {
   "cell_type": "code",
   "execution_count": 12,
   "id": "f4d27ecc",
   "metadata": {
    "execution": {
     "iopub.execute_input": "2022-11-13T14:26:09.665861Z",
     "iopub.status.busy": "2022-11-13T14:26:09.664629Z",
     "iopub.status.idle": "2022-11-13T14:26:09.669839Z",
     "shell.execute_reply": "2022-11-13T14:26:09.668916Z"
    },
    "id": "Bo8_GP6qYTpo",
    "papermill": {
     "duration": 0.03493,
     "end_time": "2022-11-13T14:26:09.672203",
     "exception": false,
     "start_time": "2022-11-13T14:26:09.637273",
     "status": "completed"
    },
    "tags": []
   },
   "outputs": [],
   "source": [
    "# build analyzers (bag-of-words)\n",
    "BOW_vectorizer = CountVectorizer() "
   ]
  },
  {
   "cell_type": "code",
   "execution_count": 13,
   "id": "f8593d01",
   "metadata": {
    "execution": {
     "iopub.execute_input": "2022-11-13T14:26:09.726833Z",
     "iopub.status.busy": "2022-11-13T14:26:09.725996Z",
     "iopub.status.idle": "2022-11-13T14:26:09.883605Z",
     "shell.execute_reply": "2022-11-13T14:26:09.882300Z"
    },
    "id": "Bz_m0xn7YTpo",
    "papermill": {
     "duration": 0.187702,
     "end_time": "2022-11-13T14:26:09.886560",
     "exception": false,
     "start_time": "2022-11-13T14:26:09.698858",
     "status": "completed"
    },
    "tags": []
   },
   "outputs": [],
   "source": [
    "# 1. Learn a vocabulary dictionary of all tokens in the raw documents.\n",
    "BOW_vectorizer.fit(train_df['text'])\n",
    "\n",
    "# 2. Transform documents to document-term matrix.\n",
    "train_data_BOW_features = BOW_vectorizer.transform(train_df['text'])\n",
    "test_data_BOW_features = BOW_vectorizer.transform(test_df['text'])"
   ]
  },
  {
   "cell_type": "code",
   "execution_count": 14,
   "id": "9605a029",
   "metadata": {
    "execution": {
     "iopub.execute_input": "2022-11-13T14:26:09.940090Z",
     "iopub.status.busy": "2022-11-13T14:26:09.939549Z",
     "iopub.status.idle": "2022-11-13T14:26:09.947562Z",
     "shell.execute_reply": "2022-11-13T14:26:09.946377Z"
    },
    "id": "5cpCUVN8YTpo",
    "outputId": "c68d1f47-143e-4e56-c9bd-049c9c204e11",
    "papermill": {
     "duration": 0.037611,
     "end_time": "2022-11-13T14:26:09.949906",
     "exception": false,
     "start_time": "2022-11-13T14:26:09.912295",
     "status": "completed"
    },
    "tags": []
   },
   "outputs": [
    {
     "data": {
      "text/plain": [
       "<3613x10115 sparse matrix of type '<class 'numpy.int64'>'\n",
       "\twith 51467 stored elements in Compressed Sparse Row format>"
      ]
     },
     "execution_count": 14,
     "metadata": {},
     "output_type": "execute_result"
    }
   ],
   "source": [
    "# check the result\n",
    "train_data_BOW_features"
   ]
  },
  {
   "cell_type": "code",
   "execution_count": 15,
   "id": "bd425028",
   "metadata": {
    "execution": {
     "iopub.execute_input": "2022-11-13T14:26:10.002977Z",
     "iopub.status.busy": "2022-11-13T14:26:10.002417Z",
     "iopub.status.idle": "2022-11-13T14:26:10.010969Z",
     "shell.execute_reply": "2022-11-13T14:26:10.009351Z"
    },
    "id": "irGLsag-YTpo",
    "outputId": "27e90366-d681-43ef-ab5f-7c3360b1a671",
    "papermill": {
     "duration": 0.037919,
     "end_time": "2022-11-13T14:26:10.013361",
     "exception": false,
     "start_time": "2022-11-13T14:26:09.975442",
     "status": "completed"
    },
    "tags": []
   },
   "outputs": [
    {
     "data": {
      "text/plain": [
       "scipy.sparse.csr.csr_matrix"
      ]
     },
     "execution_count": 15,
     "metadata": {},
     "output_type": "execute_result"
    }
   ],
   "source": [
    "type(train_data_BOW_features)"
   ]
  },
  {
   "cell_type": "code",
   "execution_count": 16,
   "id": "1e443450",
   "metadata": {
    "execution": {
     "iopub.execute_input": "2022-11-13T14:26:10.067761Z",
     "iopub.status.busy": "2022-11-13T14:26:10.067243Z",
     "iopub.status.idle": "2022-11-13T14:26:10.220345Z",
     "shell.execute_reply": "2022-11-13T14:26:10.219260Z"
    },
    "id": "WqbR8KWNYTpo",
    "outputId": "50438b2b-731e-4031-8dfe-19d6c7831545",
    "papermill": {
     "duration": 0.18263,
     "end_time": "2022-11-13T14:26:10.222676",
     "exception": false,
     "start_time": "2022-11-13T14:26:10.040046",
     "status": "completed"
    },
    "scrolled": true,
    "tags": []
   },
   "outputs": [
    {
     "data": {
      "text/plain": [
       "array([[0, 0, 0, ..., 0, 0, 0],\n",
       "       [0, 0, 0, ..., 0, 0, 0],\n",
       "       [0, 0, 0, ..., 0, 0, 0],\n",
       "       ...,\n",
       "       [0, 0, 0, ..., 0, 0, 0],\n",
       "       [0, 0, 0, ..., 0, 0, 0],\n",
       "       [0, 0, 0, ..., 0, 0, 0]])"
      ]
     },
     "execution_count": 16,
     "metadata": {},
     "output_type": "execute_result"
    }
   ],
   "source": [
    "# add .toarray() to show\n",
    "train_data_BOW_features.toarray()"
   ]
  },
  {
   "cell_type": "code",
   "execution_count": 17,
   "id": "75f771bd",
   "metadata": {
    "execution": {
     "iopub.execute_input": "2022-11-13T14:26:10.276373Z",
     "iopub.status.busy": "2022-11-13T14:26:10.275688Z",
     "iopub.status.idle": "2022-11-13T14:26:10.284212Z",
     "shell.execute_reply": "2022-11-13T14:26:10.282800Z"
    },
    "id": "mL0xkGyGYTpo",
    "outputId": "c6245d02-a095-44d9-b00f-bb62936bee4a",
    "papermill": {
     "duration": 0.038624,
     "end_time": "2022-11-13T14:26:10.287050",
     "exception": false,
     "start_time": "2022-11-13T14:26:10.248426",
     "status": "completed"
    },
    "tags": []
   },
   "outputs": [
    {
     "data": {
      "text/plain": [
       "(3613, 10115)"
      ]
     },
     "execution_count": 17,
     "metadata": {},
     "output_type": "execute_result"
    }
   ],
   "source": [
    "# check the dimension\n",
    "train_data_BOW_features.shape"
   ]
  },
  {
   "cell_type": "code",
   "execution_count": 18,
   "id": "d33c16d3",
   "metadata": {
    "execution": {
     "iopub.execute_input": "2022-11-13T14:26:10.341383Z",
     "iopub.status.busy": "2022-11-13T14:26:10.340983Z",
     "iopub.status.idle": "2022-11-13T14:26:10.357381Z",
     "shell.execute_reply": "2022-11-13T14:26:10.356034Z"
    },
    "id": "iyRaxyBZYTpo",
    "outputId": "f1df1307-12a0-49b7-afcb-7ad840f886ca",
    "papermill": {
     "duration": 0.046155,
     "end_time": "2022-11-13T14:26:10.359907",
     "exception": false,
     "start_time": "2022-11-13T14:26:10.313752",
     "status": "completed"
    },
    "tags": []
   },
   "outputs": [
    {
     "data": {
      "text/plain": [
       "array(['2k17', '2much', '2nd', '30', '300', '301', '30am', '30pm', '30s',\n",
       "       '31'], dtype=object)"
      ]
     },
     "execution_count": 18,
     "metadata": {},
     "output_type": "execute_result"
    }
   ],
   "source": [
    "# observe some feature names\n",
    "feature_names = BOW_vectorizer.get_feature_names_out()\n",
    "feature_names[100:110]"
   ]
  },
  {
   "cell_type": "markdown",
   "id": "5389be21",
   "metadata": {
    "id": "zm00p_sxYTpo",
    "papermill": {
     "duration": 0.025548,
     "end_time": "2022-11-13T14:26:10.411204",
     "exception": false,
     "start_time": "2022-11-13T14:26:10.385656",
     "status": "completed"
    },
    "tags": []
   },
   "source": [
    " "
   ]
  },
  {
   "cell_type": "markdown",
   "id": "75d4d4c7",
   "metadata": {
    "id": "roSfgQKaYTpo",
    "papermill": {
     "duration": 0.025612,
     "end_time": "2022-11-13T14:26:10.463501",
     "exception": false,
     "start_time": "2022-11-13T14:26:10.437889",
     "status": "completed"
    },
    "tags": []
   },
   "source": [
    "The embedding is done. We can technically feed this into our model. However, depending on the embedding technique you use and your model, your accuracy might not be as high, because:\n",
    "\n",
    "* curse of dimensionality  (we have 10,115 dimension now)\n",
    "* some important features are ignored (for example, some models using emoticons yeld better performance than counterparts)"
   ]
  },
  {
   "cell_type": "code",
   "execution_count": 19,
   "id": "87d8ae46",
   "metadata": {
    "execution": {
     "iopub.execute_input": "2022-11-13T14:26:10.517193Z",
     "iopub.status.busy": "2022-11-13T14:26:10.516795Z",
     "iopub.status.idle": "2022-11-13T14:26:10.525953Z",
     "shell.execute_reply": "2022-11-13T14:26:10.524452Z"
    },
    "id": "kx4YPbrdYTpo",
    "outputId": "3d8a8808-fb86-4fe6-93b5-93ba0124f845",
    "papermill": {
     "duration": 0.038909,
     "end_time": "2022-11-13T14:26:10.528496",
     "exception": false,
     "start_time": "2022-11-13T14:26:10.489587",
     "status": "completed"
    },
    "tags": []
   },
   "outputs": [
    {
     "data": {
      "text/plain": [
       "False"
      ]
     },
     "execution_count": 19,
     "metadata": {},
     "output_type": "execute_result"
    }
   ],
   "source": [
    "\"😂\" in feature_names"
   ]
  },
  {
   "cell_type": "markdown",
   "id": "e19b4040",
   "metadata": {
    "id": "0MFzyA95YTpo",
    "papermill": {
     "duration": 0.025639,
     "end_time": "2022-11-13T14:26:10.580606",
     "exception": false,
     "start_time": "2022-11-13T14:26:10.554967",
     "status": "completed"
    },
    "tags": []
   },
   "source": [
    "Let's try using another tokenizer below."
   ]
  },
  {
   "cell_type": "code",
   "execution_count": 20,
   "id": "1b109a84",
   "metadata": {
    "execution": {
     "iopub.execute_input": "2022-11-13T14:26:10.635046Z",
     "iopub.status.busy": "2022-11-13T14:26:10.634566Z",
     "iopub.status.idle": "2022-11-13T14:26:13.012940Z",
     "shell.execute_reply": "2022-11-13T14:26:13.011553Z"
    },
    "id": "SttodxACYTpo",
    "outputId": "11fe3750-22b7-45bf-c15f-586d74c35c13",
    "papermill": {
     "duration": 2.408295,
     "end_time": "2022-11-13T14:26:13.015377",
     "exception": false,
     "start_time": "2022-11-13T14:26:10.607082",
     "status": "completed"
    },
    "tags": []
   },
   "outputs": [
    {
     "name": "stderr",
     "output_type": "stream",
     "text": [
      "/opt/conda/lib/python3.7/site-packages/sklearn/feature_extraction/text.py:517: UserWarning: The parameter 'token_pattern' will not be used since 'tokenizer' is not None'\n",
      "  \"The parameter 'token_pattern' will not be used\"\n"
     ]
    },
    {
     "data": {
      "text/plain": [
       "(3613, 500)"
      ]
     },
     "execution_count": 20,
     "metadata": {},
     "output_type": "execute_result"
    }
   ],
   "source": [
    "import nltk\n",
    "# nltk.download('punkt')\n",
    "\n",
    "# build analyzers (bag-of-words)\n",
    "BOW_500 = CountVectorizer(max_features=500, tokenizer=nltk.word_tokenize) \n",
    "\n",
    "# apply analyzer to training data\n",
    "BOW_500.fit(train_df['text'])\n",
    "\n",
    "train_data_BOW_features_500 = BOW_500.transform(train_df['text'])\n",
    "\n",
    "## check dimension\n",
    "train_data_BOW_features_500.shape"
   ]
  },
  {
   "cell_type": "code",
   "execution_count": 21,
   "id": "27314196",
   "metadata": {
    "execution": {
     "iopub.execute_input": "2022-11-13T14:26:13.069529Z",
     "iopub.status.busy": "2022-11-13T14:26:13.068555Z",
     "iopub.status.idle": "2022-11-13T14:26:13.090166Z",
     "shell.execute_reply": "2022-11-13T14:26:13.088865Z"
    },
    "id": "sPi42W0pYTpo",
    "outputId": "54682edb-fa13-4292-fa48-ae81cd08b14f",
    "papermill": {
     "duration": 0.051236,
     "end_time": "2022-11-13T14:26:13.092469",
     "exception": false,
     "start_time": "2022-11-13T14:26:13.041233",
     "status": "completed"
    },
    "tags": []
   },
   "outputs": [
    {
     "data": {
      "text/plain": [
       "array([[0, 0, 0, ..., 0, 0, 0],\n",
       "       [0, 1, 0, ..., 0, 0, 0],\n",
       "       [0, 0, 0, ..., 0, 0, 0],\n",
       "       ...,\n",
       "       [0, 1, 0, ..., 0, 0, 0],\n",
       "       [0, 0, 0, ..., 0, 0, 0],\n",
       "       [0, 1, 0, ..., 0, 0, 0]])"
      ]
     },
     "execution_count": 21,
     "metadata": {},
     "output_type": "execute_result"
    }
   ],
   "source": [
    "train_data_BOW_features_500.toarray()"
   ]
  },
  {
   "cell_type": "code",
   "execution_count": 22,
   "id": "4ded46ac",
   "metadata": {
    "execution": {
     "iopub.execute_input": "2022-11-13T14:26:13.147007Z",
     "iopub.status.busy": "2022-11-13T14:26:13.146147Z",
     "iopub.status.idle": "2022-11-13T14:26:13.153541Z",
     "shell.execute_reply": "2022-11-13T14:26:13.152566Z"
    },
    "id": "JCgAnTOfYTpo",
    "outputId": "bba03b17-8ca5-4942-a78f-df389c70cd1f",
    "papermill": {
     "duration": 0.037394,
     "end_time": "2022-11-13T14:26:13.155622",
     "exception": false,
     "start_time": "2022-11-13T14:26:13.118228",
     "status": "completed"
    },
    "tags": []
   },
   "outputs": [
    {
     "data": {
      "text/plain": [
       "array(['change', 'cheer', 'cheerful', 'cheerfully', 'cheering', 'cheery',\n",
       "       'come', 'comes', 'could', 'country'], dtype=object)"
      ]
     },
     "execution_count": 22,
     "metadata": {},
     "output_type": "execute_result"
    }
   ],
   "source": [
    "# observe some feature names\n",
    "feature_names_500 = BOW_500.get_feature_names_out()\n",
    "feature_names_500[100:110]"
   ]
  },
  {
   "cell_type": "code",
   "execution_count": 23,
   "id": "fc5a68e9",
   "metadata": {
    "execution": {
     "iopub.execute_input": "2022-11-13T14:26:13.209723Z",
     "iopub.status.busy": "2022-11-13T14:26:13.208856Z",
     "iopub.status.idle": "2022-11-13T14:26:13.216015Z",
     "shell.execute_reply": "2022-11-13T14:26:13.215065Z"
    },
    "id": "ubgedNi4YTpo",
    "outputId": "d4c8c862-7507-497c-fc76-a2730996bb40",
    "papermill": {
     "duration": 0.036726,
     "end_time": "2022-11-13T14:26:13.218081",
     "exception": false,
     "start_time": "2022-11-13T14:26:13.181355",
     "status": "completed"
    },
    "tags": []
   },
   "outputs": [
    {
     "data": {
      "text/plain": [
       "True"
      ]
     },
     "execution_count": 23,
     "metadata": {},
     "output_type": "execute_result"
    }
   ],
   "source": [
    "\"😂\" in feature_names_500"
   ]
  },
  {
   "cell_type": "markdown",
   "id": "45dd8c79",
   "metadata": {
    "id": "fj6TV4ngYTpo",
    "papermill": {
     "duration": 0.025814,
     "end_time": "2022-11-13T14:26:13.269933",
     "exception": false,
     "start_time": "2022-11-13T14:26:13.244119",
     "status": "completed"
    },
    "tags": []
   },
   "source": [
    "---\n",
    "### ** >>> Exercise 2 (Take home): **  \n",
    "Generate an embedding using the TF-IDF vectorizer instead of th BOW one with 1000 features and show the feature names for features [100:110]."
   ]
  },
  {
   "cell_type": "code",
   "execution_count": 24,
   "id": "a082172a",
   "metadata": {
    "execution": {
     "iopub.execute_input": "2022-11-13T14:26:13.324264Z",
     "iopub.status.busy": "2022-11-13T14:26:13.323679Z",
     "iopub.status.idle": "2022-11-13T14:26:15.110275Z",
     "shell.execute_reply": "2022-11-13T14:26:15.108893Z"
    },
    "id": "BOjVbgmxYTpo",
    "papermill": {
     "duration": 1.817156,
     "end_time": "2022-11-13T14:26:15.112968",
     "exception": false,
     "start_time": "2022-11-13T14:26:13.295812",
     "status": "completed"
    },
    "tags": []
   },
   "outputs": [
    {
     "data": {
      "text/plain": [
       "array(['awful', 'b', 'baby', 'back', 'bad', 'ball', 'balls', 'bb18', 'bc',\n",
       "       'bday'], dtype=object)"
      ]
     },
     "execution_count": 24,
     "metadata": {},
     "output_type": "execute_result"
    }
   ],
   "source": [
    "# Answer here\n",
    "# import module\n",
    "from sklearn.feature_extraction.text import TfidfVectorizer\n",
    "# build vectorizer\n",
    "TFIDF_1000 = TfidfVectorizer(max_features=1000, tokenizer=nltk.word_tokenize) \n",
    "\n",
    "# apply analyzer to training data\n",
    "TFIDF_1000.fit(train_df['text'])\n",
    "\n",
    "train_data_TFIDF_features_1000 = TFIDF_1000.transform(train_df['text'])\n",
    "\n",
    "## check features\n",
    "TFIDF_1000.get_feature_names_out()[100:110]"
   ]
  },
  {
   "cell_type": "markdown",
   "id": "bef39b25",
   "metadata": {
    "id": "e0BvbNAVYTpo",
    "papermill": {
     "duration": 0.026697,
     "end_time": "2022-11-13T14:26:15.167160",
     "exception": false,
     "start_time": "2022-11-13T14:26:15.140463",
     "status": "completed"
    },
    "tags": []
   },
   "source": [
    "---\n",
    "## 3. Model\n",
    "### 3.1 Decision Trees\n",
    "Using scikit-learn ```DecisionTreeClassifier``` performs word frequency and uses these as features to train a model.  \n",
    "http://scikit-learn.org/stable/modules/generated/sklearn.tree.DecisionTreeClassifier.html#sklearn.tree.DecisionTreeClassifier"
   ]
  },
  {
   "cell_type": "code",
   "execution_count": 25,
   "id": "ecc6af8a",
   "metadata": {
    "execution": {
     "iopub.execute_input": "2022-11-13T14:26:15.224246Z",
     "iopub.status.busy": "2022-11-13T14:26:15.222838Z",
     "iopub.status.idle": "2022-11-13T14:26:16.266221Z",
     "shell.execute_reply": "2022-11-13T14:26:16.264545Z"
    },
    "id": "SD0rMWKgYTpo",
    "outputId": "36873985-dd8e-40ac-8ff8-f297a21f69db",
    "papermill": {
     "duration": 1.075928,
     "end_time": "2022-11-13T14:26:16.270025",
     "exception": false,
     "start_time": "2022-11-13T14:26:15.194097",
     "status": "completed"
    },
    "tags": []
   },
   "outputs": [
    {
     "name": "stdout",
     "output_type": "stream",
     "text": [
      "X_train.shape:  (3613, 500)\n",
      "y_train.shape:  (3613,)\n",
      "X_test.shape:  (347, 500)\n",
      "y_test.shape:  (347,)\n"
     ]
    }
   ],
   "source": [
    "from sklearn.tree import DecisionTreeClassifier\n",
    "\n",
    "# for a classificaiton problem, you need to provide both training & testing data\n",
    "X_train = BOW_500.transform(train_df['text'])\n",
    "y_train = train_df['emotion']\n",
    "\n",
    "X_test = BOW_500.transform(test_df['text'])\n",
    "y_test = test_df['emotion']\n",
    "\n",
    "## take a look at data dimension is a good habit  :)\n",
    "print('X_train.shape: ', X_train.shape)\n",
    "print('y_train.shape: ', y_train.shape)\n",
    "print('X_test.shape: ', X_test.shape)\n",
    "print('y_test.shape: ', y_test.shape)"
   ]
  },
  {
   "cell_type": "code",
   "execution_count": 26,
   "id": "b7452279",
   "metadata": {
    "execution": {
     "iopub.execute_input": "2022-11-13T14:26:16.327382Z",
     "iopub.status.busy": "2022-11-13T14:26:16.326987Z",
     "iopub.status.idle": "2022-11-13T14:26:16.554157Z",
     "shell.execute_reply": "2022-11-13T14:26:16.552737Z"
    },
    "id": "iDuvLf7TYTpo",
    "outputId": "892ea486-fe16-49fc-a57a-b507924d9549",
    "papermill": {
     "duration": 0.259199,
     "end_time": "2022-11-13T14:26:16.557147",
     "exception": false,
     "start_time": "2022-11-13T14:26:16.297948",
     "status": "completed"
    },
    "tags": []
   },
   "outputs": [
    {
     "data": {
      "text/plain": [
       "array(['fear', 'anger', 'fear', 'anger', 'sadness', 'joy', 'anger',\n",
       "       'anger', 'anger', 'sadness'], dtype=object)"
      ]
     },
     "execution_count": 26,
     "metadata": {},
     "output_type": "execute_result"
    }
   ],
   "source": [
    "## build DecisionTree model\n",
    "DT_model = DecisionTreeClassifier(random_state=1)\n",
    "\n",
    "## training!\n",
    "DT_model = DT_model.fit(X_train, y_train)\n",
    "\n",
    "## predict!\n",
    "y_train_pred = DT_model.predict(X_train)\n",
    "y_test_pred = DT_model.predict(X_test)\n",
    "\n",
    "## so we get the pred result\n",
    "y_test_pred[:10]"
   ]
  },
  {
   "cell_type": "markdown",
   "id": "e9053285",
   "metadata": {
    "id": "iBNmBT50YTpo",
    "papermill": {
     "duration": 0.026215,
     "end_time": "2022-11-13T14:26:16.615819",
     "exception": false,
     "start_time": "2022-11-13T14:26:16.589604",
     "status": "completed"
    },
    "tags": []
   },
   "source": [
    "---\n",
    "## 4. Results Evaluation"
   ]
  },
  {
   "cell_type": "markdown",
   "id": "32afea2d",
   "metadata": {
    "id": "-gQU_PbhYTpo",
    "papermill": {
     "duration": 0.025913,
     "end_time": "2022-11-13T14:26:16.668018",
     "exception": false,
     "start_time": "2022-11-13T14:26:16.642105",
     "status": "completed"
    },
    "tags": []
   },
   "source": [
    "Now we will check the results of our model's performance"
   ]
  },
  {
   "cell_type": "code",
   "execution_count": 27,
   "id": "7b24383f",
   "metadata": {
    "execution": {
     "iopub.execute_input": "2022-11-13T14:26:16.722670Z",
     "iopub.status.busy": "2022-11-13T14:26:16.722270Z",
     "iopub.status.idle": "2022-11-13T14:26:16.735048Z",
     "shell.execute_reply": "2022-11-13T14:26:16.733803Z"
    },
    "id": "A9yx3tv-YTpo",
    "outputId": "0b1e4f04-d7a5-4e0d-8351-66c2b802cc42",
    "papermill": {
     "duration": 0.043193,
     "end_time": "2022-11-13T14:26:16.737661",
     "exception": false,
     "start_time": "2022-11-13T14:26:16.694468",
     "status": "completed"
    },
    "tags": []
   },
   "outputs": [
    {
     "name": "stdout",
     "output_type": "stream",
     "text": [
      "training accuracy: 0.99\n",
      "testing accuracy: 0.68\n"
     ]
    }
   ],
   "source": [
    "## accuracy\n",
    "from sklearn.metrics import accuracy_score\n",
    "\n",
    "acc_train = accuracy_score(y_true=y_train, y_pred=y_train_pred)\n",
    "acc_test = accuracy_score(y_true=y_test, y_pred=y_test_pred)\n",
    "\n",
    "print('training accuracy: {}'.format(round(acc_train, 2)))\n",
    "print('testing accuracy: {}'.format(round(acc_test, 2)))\n"
   ]
  },
  {
   "cell_type": "code",
   "execution_count": 28,
   "id": "5e148e18",
   "metadata": {
    "execution": {
     "iopub.execute_input": "2022-11-13T14:26:16.792478Z",
     "iopub.status.busy": "2022-11-13T14:26:16.792086Z",
     "iopub.status.idle": "2022-11-13T14:26:16.812928Z",
     "shell.execute_reply": "2022-11-13T14:26:16.811008Z"
    },
    "id": "-wkOqjqiYTpo",
    "outputId": "f0538316-514a-4894-fb0f-ccc73204f598",
    "papermill": {
     "duration": 0.052167,
     "end_time": "2022-11-13T14:26:16.816157",
     "exception": false,
     "start_time": "2022-11-13T14:26:16.763990",
     "status": "completed"
    },
    "tags": []
   },
   "outputs": [
    {
     "name": "stdout",
     "output_type": "stream",
     "text": [
      "              precision    recall  f1-score   support\n",
      "\n",
      "       anger       0.66      0.68      0.67        84\n",
      "        fear       0.66      0.69      0.67       110\n",
      "         joy       0.72      0.71      0.71        79\n",
      "     sadness       0.70      0.64      0.67        74\n",
      "\n",
      "    accuracy                           0.68       347\n",
      "   macro avg       0.68      0.68      0.68       347\n",
      "weighted avg       0.68      0.68      0.68       347\n",
      "\n"
     ]
    }
   ],
   "source": [
    "## precision, recall, f1-score,\n",
    "from sklearn.metrics import classification_report\n",
    "\n",
    "print(classification_report(y_true=y_test, y_pred=y_test_pred))\n",
    "\n",
    "# check here: https://towardsdatascience.com/a-look-at-precision-recall-and-f1-score-36b5fd0dd3ec"
   ]
  },
  {
   "cell_type": "code",
   "execution_count": 29,
   "id": "df9ca41e",
   "metadata": {
    "execution": {
     "iopub.execute_input": "2022-11-13T14:26:16.872952Z",
     "iopub.status.busy": "2022-11-13T14:26:16.871515Z",
     "iopub.status.idle": "2022-11-13T14:26:16.881670Z",
     "shell.execute_reply": "2022-11-13T14:26:16.880068Z"
    },
    "id": "N6mhrmKHYTpo",
    "outputId": "30efb505-d5e0-41f6-e72a-05302135a4db",
    "papermill": {
     "duration": 0.040871,
     "end_time": "2022-11-13T14:26:16.884253",
     "exception": false,
     "start_time": "2022-11-13T14:26:16.843382",
     "status": "completed"
    },
    "tags": []
   },
   "outputs": [
    {
     "name": "stdout",
     "output_type": "stream",
     "text": [
      "[[57 18  6  3]\n",
      " [16 76  9  9]\n",
      " [ 6  9 56  8]\n",
      " [ 7 13  7 47]]\n"
     ]
    }
   ],
   "source": [
    "## check by confusion matrix\n",
    "from sklearn.metrics import confusion_matrix\n",
    "\n",
    "cm = confusion_matrix(y_true=y_test, y_pred=y_test_pred) \n",
    "print(cm)"
   ]
  },
  {
   "cell_type": "code",
   "execution_count": 30,
   "id": "25d25329",
   "metadata": {
    "execution": {
     "iopub.execute_input": "2022-11-13T14:26:16.943072Z",
     "iopub.status.busy": "2022-11-13T14:26:16.941666Z",
     "iopub.status.idle": "2022-11-13T14:26:17.131089Z",
     "shell.execute_reply": "2022-11-13T14:26:17.129940Z"
    },
    "id": "-TcX8NA5YTpo",
    "papermill": {
     "duration": 0.222026,
     "end_time": "2022-11-13T14:26:17.134205",
     "exception": false,
     "start_time": "2022-11-13T14:26:16.912179",
     "status": "completed"
    },
    "tags": []
   },
   "outputs": [],
   "source": [
    "# Funciton for visualizing confusion_matrix\n",
    "import matplotlib.pyplot as plt\n",
    "import seaborn as sns\n",
    "import numpy as np\n",
    "import itertools\n",
    "\n",
    "def plot_confusion_matrix(cm, classes, title='Confusion matrix',\n",
    "                          cmap=sns.cubehelix_palette(as_cmap=True)):\n",
    "    \"\"\"\n",
    "    This function is modified from: \n",
    "    http://scikit-learn.org/stable/auto_examples/model_selection/plot_confusion_matrix.html\n",
    "    \"\"\"\n",
    "    classes.sort()\n",
    "    tick_marks = np.arange(len(classes))    \n",
    "    \n",
    "    fig, ax = plt.subplots(figsize=(5,5))\n",
    "    im = ax.imshow(cm, interpolation='nearest', cmap=cmap)\n",
    "    ax.figure.colorbar(im, ax=ax)\n",
    "    ax.set(xticks=np.arange(cm.shape[1]),\n",
    "           yticks=np.arange(cm.shape[0]),\n",
    "           xticklabels = classes,\n",
    "           yticklabels = classes,\n",
    "           title = title,\n",
    "           xlabel = 'True label',\n",
    "           ylabel = 'Predicted label')\n",
    "\n",
    "    fmt = 'd'\n",
    "    thresh = cm.max() / 2.\n",
    "    for i, j in itertools.product(range(cm.shape[0]), range(cm.shape[1])):\n",
    "        plt.text(j, i, format(cm[i, j], fmt), horizontalalignment=\"center\", color=\"white\" if cm[i, j] > thresh else \"black\")\n",
    "    ylim_top = len(classes) - 0.5\n",
    "    plt.ylim([ylim_top, -.5])\n",
    "    plt.tight_layout()\n",
    "    plt.show()"
   ]
  },
  {
   "cell_type": "code",
   "execution_count": 31,
   "id": "9488b2ad",
   "metadata": {
    "execution": {
     "iopub.execute_input": "2022-11-13T14:26:17.189625Z",
     "iopub.status.busy": "2022-11-13T14:26:17.189220Z",
     "iopub.status.idle": "2022-11-13T14:26:17.499662Z",
     "shell.execute_reply": "2022-11-13T14:26:17.498663Z"
    },
    "id": "1nBVOUpDYTpo",
    "outputId": "7f99188c-1f03-462e-971e-0c8238f4f0d7",
    "papermill": {
     "duration": 0.340836,
     "end_time": "2022-11-13T14:26:17.502193",
     "exception": false,
     "start_time": "2022-11-13T14:26:17.161357",
     "status": "completed"
    },
    "tags": []
   },
   "outputs": [
    {
     "data": {
      "image/png": "[encoded data removed]",
      "text/plain": [
       "<Figure size 360x360 with 2 Axes>"
      ]
     },
     "metadata": {
      "needs_background": "light"
     },
     "output_type": "display_data"
    }
   ],
   "source": [
    "# plot your confusion matrix\n",
    "my_tags = ['anger', 'fear', 'joy', 'sadness']\n",
    "plot_confusion_matrix(cm, classes=my_tags, title='Confusion matrix')"
   ]
  },
  {
   "cell_type": "markdown",
   "id": "c5a03918",
   "metadata": {
    "id": "l743vmwgYTpo",
    "papermill": {
     "duration": 0.028919,
     "end_time": "2022-11-13T14:26:17.559931",
     "exception": false,
     "start_time": "2022-11-13T14:26:17.531012",
     "status": "completed"
    },
    "tags": []
   },
   "source": [
    "---\n",
    "### ** >>> Exercise 3 (Take home): **  \n",
    "Can you interpret the results above? What do they mean?"
   ]
  },
  {
   "cell_type": "code",
   "execution_count": 32,
   "id": "5116b3f6",
   "metadata": {
    "execution": {
     "iopub.execute_input": "2022-11-13T14:26:17.617685Z",
     "iopub.status.busy": "2022-11-13T14:26:17.617018Z",
     "iopub.status.idle": "2022-11-13T14:26:17.624986Z",
     "shell.execute_reply": "2022-11-13T14:26:17.623745Z"
    },
    "id": "8pYICOxsYTpo",
    "papermill": {
     "duration": 0.039495,
     "end_time": "2022-11-13T14:26:17.627563",
     "exception": false,
     "start_time": "2022-11-13T14:26:17.588068",
     "status": "completed"
    },
    "tags": []
   },
   "outputs": [
    {
     "data": {
      "text/plain": [
       "'\\nThis decition tree predicts Fear the most precise, the other emotions have no much difference.\\nAnd also Anger and Fear are mis-predicted than the other pairs. \\n'"
      ]
     },
     "execution_count": 32,
     "metadata": {},
     "output_type": "execute_result"
    }
   ],
   "source": [
    "# Answer here\n",
    "'''\n",
    "This decition tree predicts Fear the most precise, the other emotions have no much difference.\n",
    "And also Anger and Fear are mis-predicted than the other pairs. \n",
    "'''"
   ]
  },
  {
   "cell_type": "markdown",
   "id": "4e26a593",
   "metadata": {
    "id": "GaHpgl87YTpo",
    "papermill": {
     "duration": 0.026352,
     "end_time": "2022-11-13T14:26:17.680807",
     "exception": false,
     "start_time": "2022-11-13T14:26:17.654455",
     "status": "completed"
    },
    "tags": []
   },
   "source": [
    "---\n",
    "### ** >>> Exercise 4 (Take home): **  \n",
    "Build a model using a ```Naive Bayes``` model and train it. What are the testing results? \n",
    "\n",
    "*Reference*: https://scikit-learn.org/stable/modules/generated/sklearn.naive_bayes.MultinomialNB.html"
   ]
  },
  {
   "cell_type": "code",
   "execution_count": 33,
   "id": "009086e0",
   "metadata": {
    "execution": {
     "iopub.execute_input": "2022-11-13T14:26:17.736904Z",
     "iopub.status.busy": "2022-11-13T14:26:17.735674Z",
     "iopub.status.idle": "2022-11-13T14:26:17.760572Z",
     "shell.execute_reply": "2022-11-13T14:26:17.759347Z"
    },
    "id": "ZPvaHzpXYTpo",
    "papermill": {
     "duration": 0.055737,
     "end_time": "2022-11-13T14:26:17.763004",
     "exception": false,
     "start_time": "2022-11-13T14:26:17.707267",
     "status": "completed"
    },
    "tags": []
   },
   "outputs": [
    {
     "data": {
      "text/plain": [
       "array(['anger', 'sadness', 'fear', 'fear', 'sadness', 'fear', 'joy',\n",
       "       'fear', 'anger', 'joy'], dtype='<U7')"
      ]
     },
     "execution_count": 33,
     "metadata": {},
     "output_type": "execute_result"
    }
   ],
   "source": [
    "# Answer here\n",
    "from sklearn.naive_bayes import MultinomialNB\n",
    "\n",
    "## build DecisionTree model\n",
    "NB_model = MultinomialNB()\n",
    "## training!\n",
    "NB_model = NB_model.fit(X_train, y_train)\n",
    "\n",
    "## predict!\n",
    "y_train_pred = NB_model.predict(X_train)\n",
    "y_test_pred = NB_model.predict(X_test)\n",
    "\n",
    "## so we get the pred result\n",
    "y_test_pred[:10]"
   ]
  },
  {
   "cell_type": "code",
   "execution_count": 34,
   "id": "0d060f89",
   "metadata": {
    "execution": {
     "iopub.execute_input": "2022-11-13T14:26:17.820143Z",
     "iopub.status.busy": "2022-11-13T14:26:17.819308Z",
     "iopub.status.idle": "2022-11-13T14:26:17.831522Z",
     "shell.execute_reply": "2022-11-13T14:26:17.829888Z"
    },
    "papermill": {
     "duration": 0.043927,
     "end_time": "2022-11-13T14:26:17.834032",
     "exception": false,
     "start_time": "2022-11-13T14:26:17.790105",
     "status": "completed"
    },
    "tags": []
   },
   "outputs": [
    {
     "name": "stdout",
     "output_type": "stream",
     "text": [
      "training accuracy: 0.79\n",
      "testing accuracy: 0.7\n"
     ]
    }
   ],
   "source": [
    "## accuracy\n",
    "from sklearn.metrics import accuracy_score\n",
    "\n",
    "acc_train = accuracy_score(y_true=y_train, y_pred=y_train_pred)\n",
    "acc_test = accuracy_score(y_true=y_test, y_pred=y_test_pred)\n",
    "\n",
    "print('training accuracy: {}'.format(round(acc_train, 2)))\n",
    "print('testing accuracy: {}'.format(round(acc_test, 2)))"
   ]
  },
  {
   "cell_type": "code",
   "execution_count": 35,
   "id": "f2590200",
   "metadata": {
    "execution": {
     "iopub.execute_input": "2022-11-13T14:26:17.890994Z",
     "iopub.status.busy": "2022-11-13T14:26:17.890484Z",
     "iopub.status.idle": "2022-11-13T14:26:17.900447Z",
     "shell.execute_reply": "2022-11-13T14:26:17.898922Z"
    },
    "papermill": {
     "duration": 0.042378,
     "end_time": "2022-11-13T14:26:17.903606",
     "exception": false,
     "start_time": "2022-11-13T14:26:17.861228",
     "status": "completed"
    },
    "tags": []
   },
   "outputs": [
    {
     "name": "stdout",
     "output_type": "stream",
     "text": [
      "[[55 15  5  9]\n",
      " [ 9 85  5 11]\n",
      " [11  6 56  6]\n",
      " [12 10  6 46]]\n"
     ]
    }
   ],
   "source": [
    "## check by confusion matrix\n",
    "from sklearn.metrics import confusion_matrix\n",
    "\n",
    "cm = confusion_matrix(y_true=y_test, y_pred=y_test_pred) \n",
    "print(cm)"
   ]
  },
  {
   "cell_type": "code",
   "execution_count": 36,
   "id": "79c08c70",
   "metadata": {
    "execution": {
     "iopub.execute_input": "2022-11-13T14:26:17.964909Z",
     "iopub.status.busy": "2022-11-13T14:26:17.964394Z",
     "iopub.status.idle": "2022-11-13T14:26:18.308300Z",
     "shell.execute_reply": "2022-11-13T14:26:18.306868Z"
    },
    "papermill": {
     "duration": 0.377845,
     "end_time": "2022-11-13T14:26:18.311206",
     "exception": false,
     "start_time": "2022-11-13T14:26:17.933361",
     "status": "completed"
    },
    "tags": []
   },
   "outputs": [
    {
     "data": {
      "image/png": "[encoded data removed]",
      "text/plain": [
       "<Figure size 360x360 with 2 Axes>"
      ]
     },
     "metadata": {
      "needs_background": "light"
     },
     "output_type": "display_data"
    }
   ],
   "source": [
    "plot_confusion_matrix(cm, classes=my_tags, title='Confusion matrix')"
   ]
  },
  {
   "cell_type": "markdown",
   "id": "e778f62f",
   "metadata": {
    "id": "Xv2DqWQSYTpo",
    "papermill": {
     "duration": 0.029933,
     "end_time": "2022-11-13T14:26:18.371898",
     "exception": false,
     "start_time": "2022-11-13T14:26:18.341965",
     "status": "completed"
    },
    "tags": []
   },
   "source": [
    "---\n",
    "### ** >>> Exercise 5 (Take home): **  \n",
    "\n",
    "How do the results from the Naive Bayes model and the Decision Tree model compare? How do you interpret these differences? Use the theoretical background covered in class to try and explain these differences."
   ]
  },
  {
   "cell_type": "code",
   "execution_count": 37,
   "id": "b43ccfdf",
   "metadata": {
    "execution": {
     "iopub.execute_input": "2022-11-13T14:26:18.430802Z",
     "iopub.status.busy": "2022-11-13T14:26:18.430297Z",
     "iopub.status.idle": "2022-11-13T14:26:18.439039Z",
     "shell.execute_reply": "2022-11-13T14:26:18.437617Z"
    },
    "id": "ALN_jHdlYTpo",
    "papermill": {
     "duration": 0.041196,
     "end_time": "2022-11-13T14:26:18.441416",
     "exception": false,
     "start_time": "2022-11-13T14:26:18.400220",
     "status": "completed"
    },
    "tags": []
   },
   "outputs": [
    {
     "data": {
      "text/plain": [
       "\"\\nAccuracy of two model are the same.\\ntraining accuracy: 0.79\\ntesting accuracy: 0.7\\n\\nThe confusion matrix of DT:\\n[[57 18  6  3]\\n [16 76  9  9]\\n [ 6  9 56  8]\\n [ 7 13  7 47]]\\nThe confusion matrix of NB:\\n [[55 15  5  9]\\n [ 9 85  5 11]\\n [11  6 56  6]\\n [12 10  6 46]]\\n\\n>> the difference between two cm, is that \\nthe number of instances for joy and sadness are pretty the same,\\nso when we use nb, the values of the left-lower part are bigger.\\nmeanwhile, dt doesn't effect by the sample size. \\n\\n\""
      ]
     },
     "execution_count": 37,
     "metadata": {},
     "output_type": "execute_result"
    }
   ],
   "source": [
    "# Answer here\n",
    "'''why nb looks like this and why dt looks like that'''\n",
    "'''\n",
    "Accuracy of two model are the same.\n",
    "training accuracy: 0.79\n",
    "testing accuracy: 0.7\n",
    "\n",
    "The confusion matrix of DT:\n",
    "[[57 18  6  3]\n",
    " [16 76  9  9]\n",
    " [ 6  9 56  8]\n",
    " [ 7 13  7 47]]\n",
    "The confusion matrix of NB:\n",
    " [[55 15  5  9]\n",
    " [ 9 85  5 11]\n",
    " [11  6 56  6]\n",
    " [12 10  6 46]]\n",
    "\n",
    ">> the difference between two cm, is that \n",
    "the number of instances for joy and sadness are pretty the same,\n",
    "so when we use nb, the values of the left-lower part are bigger.\n",
    "meanwhile, dt doesn't effect by the sample size. \n",
    "\n",
    "'''"
   ]
  },
  {
   "cell_type": "markdown",
   "id": "dbd459df",
   "metadata": {
    "id": "ehlJ60lhYTpo",
    "papermill": {
     "duration": 0.028143,
     "end_time": "2022-11-13T14:26:18.498458",
     "exception": false,
     "start_time": "2022-11-13T14:26:18.470315",
     "status": "completed"
    },
    "tags": []
   },
   "source": [
    "---"
   ]
  },
  {
   "cell_type": "markdown",
   "id": "98d7d631",
   "metadata": {
    "id": "79F_DaW-YTpo",
    "papermill": {
     "duration": 0.028867,
     "end_time": "2022-11-13T14:26:18.555797",
     "exception": false,
     "start_time": "2022-11-13T14:26:18.526930",
     "status": "completed"
    },
    "tags": []
   },
   "source": [
    "## 5. Other things you can try"
   ]
  },
  {
   "cell_type": "markdown",
   "id": "109c9ca2",
   "metadata": {
    "id": "_oeqpRu6YTpo",
    "papermill": {
     "duration": 0.029356,
     "end_time": "2022-11-13T14:26:18.614807",
     "exception": false,
     "start_time": "2022-11-13T14:26:18.585451",
     "status": "completed"
    },
    "tags": []
   },
   "source": [
    "Thus, there are several things you can try that will affect your results. In order to yield better results, you can experiment by: \n",
    "- Trying different features (Feature engineering)e.g Word2Vec, PCA, LDA, FastText, Clustering\n",
    "- Trying different models\n",
    "- Analyzing your results and interpret them to improve your feature engineering/model building process\n",
    "- Iterate through the steps above until finding a satisfying result\n",
    "\n",
    "Remember that you should also consider the task at hand and the model you'll feed the data to. "
   ]
  },
  {
   "cell_type": "markdown",
   "id": "d5608b23",
   "metadata": {
    "id": "fiGUSmPLYTpo",
    "papermill": {
     "duration": 0.02691,
     "end_time": "2022-11-13T14:26:18.669337",
     "exception": false,
     "start_time": "2022-11-13T14:26:18.642427",
     "status": "completed"
    },
    "tags": []
   },
   "source": [
    "---\n",
    "## 6. Deep Learning\n",
    "\n",
    "We use [Keras](https://keras.io/) to be our deep learning framwork, and follow the [Model (functional API)](https://keras.io/models/model/) to build a Deep Neural Network (DNN) model. Keras runs with Tensorflow in the backend. It's a nice abstraction to start working with NN models. \n",
    "\n",
    "Because Deep Learning is a 1-semester course, we can't talk about each detail about it in the lab session. Here, we only provide a simple template about how to build & run a DL model successfully. You can follow this template to design your model.\n",
    "\n",
    "We will begin by building a fully connected network, which looks like this:"
   ]
  },
  {
   "cell_type": "markdown",
   "id": "8fc1026f",
   "metadata": {
    "id": "1nB0BTq2YTpo",
    "papermill": {
     "duration": 0.027131,
     "end_time": "2022-11-13T14:26:18.724362",
     "exception": false,
     "start_time": "2022-11-13T14:26:18.697231",
     "status": "completed"
    },
    "tags": []
   },
   "source": [
    "![Fully Connected Network](pics/pic1.png)\n",
    "\n",
    "(source: https://github.com/drewnoff/spark-notebook-ml-labs/tree/master/labs/DLFramework)\n"
   ]
  },
  {
   "cell_type": "markdown",
   "id": "181970a7",
   "metadata": {
    "id": "-EtVRGhNYTpo",
    "papermill": {
     "duration": 0.02785,
     "end_time": "2022-11-13T14:26:18.779824",
     "exception": false,
     "start_time": "2022-11-13T14:26:18.751974",
     "status": "completed"
    },
    "tags": []
   },
   "source": [
    "### 6.1 Prepare data (X, y)"
   ]
  },
  {
   "cell_type": "code",
   "execution_count": 38,
   "id": "f9cdfbb4",
   "metadata": {
    "execution": {
     "iopub.execute_input": "2022-11-13T14:26:18.838013Z",
     "iopub.status.busy": "2022-11-13T14:26:18.837506Z",
     "iopub.status.idle": "2022-11-13T14:26:26.185508Z",
     "shell.execute_reply": "2022-11-13T14:26:26.184194Z"
    },
    "id": "4mIdg2D6YTpo",
    "outputId": "8f4fa078-7e07-4b76-e5ee-163d123abde3",
    "papermill": {
     "duration": 7.380983,
     "end_time": "2022-11-13T14:26:26.189276",
     "exception": false,
     "start_time": "2022-11-13T14:26:18.808293",
     "status": "completed"
    },
    "tags": []
   },
   "outputs": [
    {
     "name": "stdout",
     "output_type": "stream",
     "text": [
      "X_train.shape:  (3613, 500)\n",
      "y_train.shape:  (3613,)\n",
      "X_test.shape:  (347, 500)\n",
      "y_test.shape:  (347,)\n"
     ]
    }
   ],
   "source": [
    "import keras\n",
    "\n",
    "# standardize name (X, y) \n",
    "X_train = BOW_500.transform(train_df['text'])\n",
    "y_train = train_df['emotion']\n",
    "\n",
    "X_test = BOW_500.transform(test_df['text'])\n",
    "y_test = test_df['emotion']\n",
    "\n",
    "## check dimension is a good habbit \n",
    "print('X_train.shape: ', X_train.shape)\n",
    "print('y_train.shape: ', y_train.shape)\n",
    "print('X_test.shape: ', X_test.shape)\n",
    "print('y_test.shape: ', y_test.shape)"
   ]
  },
  {
   "cell_type": "markdown",
   "id": "618df861",
   "metadata": {
    "id": "iBZZedZ2YTpo",
    "papermill": {
     "duration": 0.036102,
     "end_time": "2022-11-13T14:26:26.261518",
     "exception": false,
     "start_time": "2022-11-13T14:26:26.225416",
     "status": "completed"
    },
    "tags": []
   },
   "source": [
    "### 6.2 Deal with categorical label (y)\n",
    "\n",
    "Rather than put your label `train_df['emotion']` directly into a model, we have to process these categorical (or say nominal) label by ourselves. \n",
    "\n",
    "Here, we use the basic method [one-hot encoding](https://en.wikipedia.org/wiki/One-hot) to transform our categorical  labels to numerical ones.\n"
   ]
  },
  {
   "cell_type": "code",
   "execution_count": 39,
   "id": "85f3f79e",
   "metadata": {
    "execution": {
     "iopub.execute_input": "2022-11-13T14:26:26.344033Z",
     "iopub.status.busy": "2022-11-13T14:26:26.343074Z",
     "iopub.status.idle": "2022-11-13T14:26:26.361238Z",
     "shell.execute_reply": "2022-11-13T14:26:26.360142Z"
    },
    "id": "SU95MCsSYTpo",
    "outputId": "7f536cfa-8eda-4c04-bbbb-f35caa203f88",
    "papermill": {
     "duration": 0.067728,
     "end_time": "2022-11-13T14:26:26.364166",
     "exception": false,
     "start_time": "2022-11-13T14:26:26.296438",
     "status": "completed"
    },
    "tags": []
   },
   "outputs": [
    {
     "name": "stdout",
     "output_type": "stream",
     "text": [
      "check label:  ['anger' 'fear' 'joy' 'sadness']\n",
      "\n",
      "## Before convert\n",
      "y_train[0:4]:\n",
      " 338     anger\n",
      "1466     fear\n",
      "1313     fear\n",
      "1585     fear\n",
      "Name: emotion, dtype: object\n",
      "\n",
      "y_train.shape:  (3613,)\n",
      "y_test.shape:  (347,)\n",
      "\n",
      "\n",
      "## After convert\n",
      "y_train[0:4]:\n",
      " [[1. 0. 0. 0.]\n",
      " [0. 1. 0. 0.]\n",
      " [0. 1. 0. 0.]\n",
      " [0. 1. 0. 0.]]\n",
      "\n",
      "y_train.shape:  (3613, 4)\n",
      "y_test.shape:  (347, 4)\n"
     ]
    }
   ],
   "source": [
    "## deal with label (string -> one-hot)\n",
    "\n",
    "from sklearn.preprocessing import LabelEncoder\n",
    "from keras.utils import np_utils # keras==2.4.0 and tensorflow==2.3.0\n",
    "\n",
    "label_encoder = LabelEncoder()\n",
    "label_encoder.fit(y_train)\n",
    "print('check label: ', label_encoder.classes_)\n",
    "print('\\n## Before convert')\n",
    "print('y_train[0:4]:\\n', y_train[0:4])\n",
    "print('\\ny_train.shape: ', y_train.shape)\n",
    "print('y_test.shape: ', y_test.shape)\n",
    "\n",
    "def label_encode(le, labels):\n",
    "    enc = le.transform(labels)\n",
    "    return keras.utils.np_utils.to_categorical(enc)\n",
    "\n",
    "def label_decode(le, one_hot_label):\n",
    "    dec = np.argmax(one_hot_label, axis=1)\n",
    "    return le.inverse_transform(dec)\n",
    "\n",
    "y_train = label_encode(label_encoder, y_train)\n",
    "y_test = label_encode(label_encoder, y_test)\n",
    "\n",
    "print('\\n\\n## After convert')\n",
    "print('y_train[0:4]:\\n', y_train[0:4])\n",
    "print('\\ny_train.shape: ', y_train.shape)\n",
    "print('y_test.shape: ', y_test.shape)\n"
   ]
  },
  {
   "cell_type": "markdown",
   "id": "1b6dae84",
   "metadata": {
    "id": "W4bqEcMbYTpo",
    "papermill": {
     "duration": 0.030859,
     "end_time": "2022-11-13T14:26:26.426658",
     "exception": false,
     "start_time": "2022-11-13T14:26:26.395799",
     "status": "completed"
    },
    "tags": []
   },
   "source": [
    "### 6.3 Build model"
   ]
  },
  {
   "cell_type": "code",
   "execution_count": 40,
   "id": "05b55699",
   "metadata": {
    "execution": {
     "iopub.execute_input": "2022-11-13T14:26:26.489330Z",
     "iopub.status.busy": "2022-11-13T14:26:26.488339Z",
     "iopub.status.idle": "2022-11-13T14:26:26.496262Z",
     "shell.execute_reply": "2022-11-13T14:26:26.494318Z"
    },
    "id": "6sA7cx-oYTpo",
    "outputId": "9f544ca7-8ceb-45e4-a76d-bdc8ccdb329c",
    "papermill": {
     "duration": 0.041854,
     "end_time": "2022-11-13T14:26:26.498972",
     "exception": false,
     "start_time": "2022-11-13T14:26:26.457118",
     "status": "completed"
    },
    "tags": []
   },
   "outputs": [
    {
     "name": "stdout",
     "output_type": "stream",
     "text": [
      "input_shape:  500\n",
      "output_shape:  4\n"
     ]
    }
   ],
   "source": [
    "# I/O check\n",
    "input_shape = X_train.shape[1]\n",
    "print('input_shape: ', input_shape)\n",
    "\n",
    "output_shape = len(label_encoder.classes_)\n",
    "print('output_shape: ', output_shape)"
   ]
  },
  {
   "cell_type": "markdown",
   "id": "e725803d",
   "metadata": {
    "id": "8c-uWuloYTpo",
    "papermill": {
     "duration": 0.028944,
     "end_time": "2022-11-13T14:26:26.557301",
     "exception": false,
     "start_time": "2022-11-13T14:26:26.528357",
     "status": "completed"
    },
    "tags": []
   },
   "source": [
    "![Imgur](pics/pic2.png)"
   ]
  },
  {
   "cell_type": "code",
   "execution_count": 41,
   "id": "a3fd9e63",
   "metadata": {
    "execution": {
     "iopub.execute_input": "2022-11-13T14:26:26.626506Z",
     "iopub.status.busy": "2022-11-13T14:26:26.625722Z",
     "iopub.status.idle": "2022-11-13T14:26:26.788600Z",
     "shell.execute_reply": "2022-11-13T14:26:26.787253Z"
    },
    "id": "jTeBWTvgYTpo",
    "outputId": "3e88d40f-2179-40ea-89c6-55085cabd1c6",
    "papermill": {
     "duration": 0.198506,
     "end_time": "2022-11-13T14:26:26.792578",
     "exception": false,
     "start_time": "2022-11-13T14:26:26.594072",
     "status": "completed"
    },
    "tags": []
   },
   "outputs": [
    {
     "name": "stdout",
     "output_type": "stream",
     "text": [
      "Model: \"model\"\n",
      "_________________________________________________________________\n",
      "Layer (type)                 Output Shape              Param #   \n",
      "=================================================================\n",
      "input_1 (InputLayer)         [(None, 500)]             0         \n",
      "_________________________________________________________________\n",
      "dense (Dense)                (None, 64)                32064     \n",
      "_________________________________________________________________\n",
      "re_lu (ReLU)                 (None, 64)                0         \n",
      "_________________________________________________________________\n",
      "dense_1 (Dense)              (None, 64)                4160      \n",
      "_________________________________________________________________\n",
      "re_lu_1 (ReLU)               (None, 64)                0         \n",
      "_________________________________________________________________\n",
      "dense_2 (Dense)              (None, 4)                 260       \n",
      "_________________________________________________________________\n",
      "softmax (Softmax)            (None, 4)                 0         \n",
      "=================================================================\n",
      "Total params: 36,484\n",
      "Trainable params: 36,484\n",
      "Non-trainable params: 0\n",
      "_________________________________________________________________\n"
     ]
    },
    {
     "name": "stderr",
     "output_type": "stream",
     "text": [
      "2022-11-13 14:26:26.687951: I tensorflow/core/common_runtime/process_util.cc:146] Creating new thread pool with default inter op setting: 2. Tune using inter_op_parallelism_threads for best performance.\n"
     ]
    }
   ],
   "source": [
    "from keras.models import Model\n",
    "from keras.layers import Input, Dense\n",
    "from keras.layers import ReLU, Softmax\n",
    "\n",
    "# input layer\n",
    "model_input = Input(shape=(input_shape, ))  # 500\n",
    "X = model_input\n",
    "\n",
    "# 1st hidden layer\n",
    "X_W1 = Dense(units=64)(X)  # 64\n",
    "H1 = ReLU()(X_W1)\n",
    "\n",
    "# 2nd hidden layer\n",
    "H1_W2 = Dense(units=64)(H1)  # 64\n",
    "H2 = ReLU()(H1_W2)\n",
    "\n",
    "# output layer\n",
    "H2_W3 = Dense(units=output_shape)(H2)  # 4\n",
    "H3 = Softmax()(H2_W3)\n",
    "\n",
    "model_output = H3\n",
    "\n",
    "# create model\n",
    "model = Model(inputs=[model_input], outputs=[model_output])\n",
    "\n",
    "# loss function & optimizer\n",
    "model.compile(optimizer='adam',\n",
    "              loss='categorical_crossentropy',\n",
    "              metrics=['accuracy'])\n",
    "\n",
    "# show model construction\n",
    "model.summary()"
   ]
  },
  {
   "cell_type": "markdown",
   "id": "44441f18",
   "metadata": {
    "id": "nmTSDO2pYTpo",
    "papermill": {
     "duration": 0.029801,
     "end_time": "2022-11-13T14:26:26.852606",
     "exception": false,
     "start_time": "2022-11-13T14:26:26.822805",
     "status": "completed"
    },
    "tags": []
   },
   "source": [
    "### 6.4 Train"
   ]
  },
  {
   "cell_type": "code",
   "execution_count": 42,
   "id": "ee17312c",
   "metadata": {
    "execution": {
     "iopub.execute_input": "2022-11-13T14:26:26.918545Z",
     "iopub.status.busy": "2022-11-13T14:26:26.918076Z",
     "iopub.status.idle": "2022-11-13T14:26:38.035691Z",
     "shell.execute_reply": "2022-11-13T14:26:38.033815Z"
    },
    "id": "Kl374LYqYTpo",
    "outputId": "75b1f651-b779-4efd-ff14-0b4a0e95d8db",
    "papermill": {
     "duration": 11.153909,
     "end_time": "2022-11-13T14:26:38.038606",
     "exception": false,
     "start_time": "2022-11-13T14:26:26.884697",
     "status": "completed"
    },
    "tags": []
   },
   "outputs": [
    {
     "name": "stdout",
     "output_type": "stream",
     "text": [
      "Epoch 1/25\n"
     ]
    },
    {
     "name": "stderr",
     "output_type": "stream",
     "text": [
      "/opt/conda/lib/python3.7/site-packages/tensorflow/python/framework/indexed_slices.py:449: UserWarning: Converting sparse IndexedSlices(IndexedSlices(indices=Tensor(\"gradient_tape/model/dense/embedding_lookup_sparse/Reshape_1:0\", shape=(None,), dtype=int32), values=Tensor(\"gradient_tape/model/dense/embedding_lookup_sparse/Reshape:0\", shape=(None, 64), dtype=float32), dense_shape=Tensor(\"gradient_tape/model/dense/embedding_lookup_sparse/Cast:0\", shape=(2,), dtype=int32))) to a dense Tensor of unknown shape. This may consume a large amount of memory.\n",
      "  \"shape. This may consume a large amount of memory.\" % value)\n",
      "2022-11-13 14:26:27.525295: I tensorflow/compiler/mlir/mlir_graph_optimization_pass.cc:185] None of the MLIR Optimization Passes are enabled (registered 2)\n"
     ]
    },
    {
     "name": "stdout",
     "output_type": "stream",
     "text": [
      "113/113 [==============================] - 2s 5ms/step - loss: 1.3309 - accuracy: 0.3620 - val_loss: 1.2871 - val_accuracy: 0.4121\n",
      "Epoch 2/25\n",
      "113/113 [==============================] - 0s 3ms/step - loss: 1.0077 - accuracy: 0.6335 - val_loss: 0.9698 - val_accuracy: 0.6311\n",
      "Epoch 3/25\n",
      "113/113 [==============================] - 0s 3ms/step - loss: 0.6061 - accuracy: 0.7883 - val_loss: 0.8133 - val_accuracy: 0.6888\n",
      "Epoch 4/25\n",
      "113/113 [==============================] - 0s 3ms/step - loss: 0.4226 - accuracy: 0.8403 - val_loss: 0.7971 - val_accuracy: 0.6916\n",
      "Epoch 5/25\n",
      "113/113 [==============================] - 0s 3ms/step - loss: 0.3307 - accuracy: 0.8777 - val_loss: 0.8630 - val_accuracy: 0.6859\n",
      "Epoch 6/25\n",
      "113/113 [==============================] - 0s 3ms/step - loss: 0.2704 - accuracy: 0.9078 - val_loss: 0.8969 - val_accuracy: 0.6830\n",
      "Epoch 7/25\n",
      "113/113 [==============================] - 0s 4ms/step - loss: 0.2200 - accuracy: 0.9305 - val_loss: 0.9905 - val_accuracy: 0.6801\n",
      "Epoch 8/25\n",
      "113/113 [==============================] - 0s 3ms/step - loss: 0.1857 - accuracy: 0.9435 - val_loss: 1.0213 - val_accuracy: 0.6715\n",
      "Epoch 9/25\n",
      "113/113 [==============================] - 0s 3ms/step - loss: 0.1595 - accuracy: 0.9524 - val_loss: 1.0867 - val_accuracy: 0.6859\n",
      "Epoch 10/25\n",
      "113/113 [==============================] - 0s 3ms/step - loss: 0.1419 - accuracy: 0.9582 - val_loss: 1.1201 - val_accuracy: 0.6888\n",
      "Epoch 11/25\n",
      "113/113 [==============================] - 0s 3ms/step - loss: 0.1222 - accuracy: 0.9665 - val_loss: 1.1940 - val_accuracy: 0.6916\n",
      "Epoch 12/25\n",
      "113/113 [==============================] - 0s 3ms/step - loss: 0.1113 - accuracy: 0.9712 - val_loss: 1.2305 - val_accuracy: 0.6830\n",
      "Epoch 13/25\n",
      "113/113 [==============================] - 0s 3ms/step - loss: 0.1026 - accuracy: 0.9693 - val_loss: 1.3267 - val_accuracy: 0.6830\n",
      "Epoch 14/25\n",
      "113/113 [==============================] - 0s 3ms/step - loss: 0.0954 - accuracy: 0.9740 - val_loss: 1.3382 - val_accuracy: 0.6830\n",
      "Epoch 15/25\n",
      "113/113 [==============================] - 0s 3ms/step - loss: 0.0930 - accuracy: 0.9712 - val_loss: 1.4195 - val_accuracy: 0.6628\n",
      "Epoch 16/25\n",
      "113/113 [==============================] - 0s 3ms/step - loss: 0.0917 - accuracy: 0.9737 - val_loss: 1.3846 - val_accuracy: 0.6628\n",
      "Epoch 17/25\n",
      "113/113 [==============================] - 0s 3ms/step - loss: 0.0845 - accuracy: 0.9743 - val_loss: 1.4348 - val_accuracy: 0.6542\n",
      "Epoch 18/25\n",
      "113/113 [==============================] - 0s 3ms/step - loss: 0.0795 - accuracy: 0.9745 - val_loss: 1.4655 - val_accuracy: 0.6686\n",
      "Epoch 19/25\n",
      "113/113 [==============================] - 0s 3ms/step - loss: 0.0747 - accuracy: 0.9770 - val_loss: 1.4740 - val_accuracy: 0.6686\n",
      "Epoch 20/25\n",
      "113/113 [==============================] - 0s 3ms/step - loss: 0.0720 - accuracy: 0.9776 - val_loss: 1.5205 - val_accuracy: 0.6542\n",
      "Epoch 21/25\n",
      "113/113 [==============================] - 0s 3ms/step - loss: 0.0736 - accuracy: 0.9762 - val_loss: 1.5392 - val_accuracy: 0.6715\n",
      "Epoch 22/25\n",
      "113/113 [==============================] - 0s 3ms/step - loss: 0.0627 - accuracy: 0.9770 - val_loss: 1.6087 - val_accuracy: 0.6513\n",
      "Epoch 23/25\n",
      "113/113 [==============================] - 0s 3ms/step - loss: 0.0712 - accuracy: 0.9779 - val_loss: 1.6560 - val_accuracy: 0.6599\n",
      "Epoch 24/25\n",
      "113/113 [==============================] - 0s 3ms/step - loss: 0.0623 - accuracy: 0.9770 - val_loss: 1.6365 - val_accuracy: 0.6686\n",
      "Epoch 25/25\n",
      "113/113 [==============================] - 0s 3ms/step - loss: 0.0586 - accuracy: 0.9779 - val_loss: 1.6278 - val_accuracy: 0.6772\n",
      "training finish\n"
     ]
    }
   ],
   "source": [
    "from keras.callbacks import CSVLogger\n",
    "\n",
    "csv_logger = CSVLogger('./training_log.csv')\n",
    "\n",
    "# training setting\n",
    "epochs = 25\n",
    "batch_size = 32\n",
    "\n",
    "# training!\n",
    "history = model.fit(X_train, y_train, \n",
    "                    epochs=epochs, \n",
    "                    batch_size=batch_size, \n",
    "                    callbacks=[csv_logger],\n",
    "                    validation_data = (X_test, y_test))\n",
    "print('training finish')"
   ]
  },
  {
   "cell_type": "markdown",
   "id": "011916f9",
   "metadata": {
    "id": "ip8RYsvSYTpo",
    "papermill": {
     "duration": 0.042366,
     "end_time": "2022-11-13T14:26:38.124747",
     "exception": false,
     "start_time": "2022-11-13T14:26:38.082381",
     "status": "completed"
    },
    "tags": []
   },
   "source": [
    "### 6.5 Predict on testing data"
   ]
  },
  {
   "cell_type": "code",
   "execution_count": 43,
   "id": "aec3bc8d",
   "metadata": {
    "execution": {
     "iopub.execute_input": "2022-11-13T14:26:38.211804Z",
     "iopub.status.busy": "2022-11-13T14:26:38.210534Z",
     "iopub.status.idle": "2022-11-13T14:26:38.369063Z",
     "shell.execute_reply": "2022-11-13T14:26:38.367962Z"
    },
    "id": "xdnLuBYBYTpo",
    "outputId": "6e7e97b7-fe5c-44f6-9baa-a71335aa7b06",
    "papermill": {
     "duration": 0.205707,
     "end_time": "2022-11-13T14:26:38.371908",
     "exception": false,
     "start_time": "2022-11-13T14:26:38.166201",
     "status": "completed"
    },
    "tags": []
   },
   "outputs": [
    {
     "data": {
      "text/plain": [
       "array([[1.5203138e-01, 8.4722215e-01, 6.6524692e-04, 8.1170670e-05],\n",
       "       [1.2817381e-04, 2.2159759e-03, 3.3345749e-04, 9.9732238e-01],\n",
       "       [1.0897784e-03, 9.9890971e-01, 2.1624874e-08, 5.2081674e-07],\n",
       "       [1.4695307e-03, 9.8475444e-01, 2.4768976e-06, 1.3773582e-02],\n",
       "       [3.3800159e-05, 6.9733316e-05, 7.7635422e-04, 9.9912006e-01]],\n",
       "      dtype=float32)"
      ]
     },
     "execution_count": 43,
     "metadata": {},
     "output_type": "execute_result"
    }
   ],
   "source": [
    "## predict\n",
    "pred_result = model.predict(X_test, batch_size=128)\n",
    "pred_result[:5]"
   ]
  },
  {
   "cell_type": "code",
   "execution_count": 44,
   "id": "24a151b8",
   "metadata": {
    "execution": {
     "iopub.execute_input": "2022-11-13T14:26:38.461302Z",
     "iopub.status.busy": "2022-11-13T14:26:38.460553Z",
     "iopub.status.idle": "2022-11-13T14:26:38.468024Z",
     "shell.execute_reply": "2022-11-13T14:26:38.466564Z"
    },
    "id": "hSaXGEX-YTpo",
    "outputId": "d35b5fb3-74e5-44d9-ac1d-8a11cca023e4",
    "papermill": {
     "duration": 0.056367,
     "end_time": "2022-11-13T14:26:38.470999",
     "exception": false,
     "start_time": "2022-11-13T14:26:38.414632",
     "status": "completed"
    },
    "tags": []
   },
   "outputs": [
    {
     "data": {
      "text/plain": [
       "array(['fear', 'sadness', 'fear', 'fear', 'sadness'], dtype=object)"
      ]
     },
     "execution_count": 44,
     "metadata": {},
     "output_type": "execute_result"
    }
   ],
   "source": [
    "pred_result = label_decode(label_encoder, pred_result)\n",
    "pred_result[:5]"
   ]
  },
  {
   "cell_type": "code",
   "execution_count": 45,
   "id": "bb2e5edf",
   "metadata": {
    "execution": {
     "iopub.execute_input": "2022-11-13T14:26:38.559134Z",
     "iopub.status.busy": "2022-11-13T14:26:38.558685Z",
     "iopub.status.idle": "2022-11-13T14:26:38.566608Z",
     "shell.execute_reply": "2022-11-13T14:26:38.565019Z"
    },
    "id": "bRRHye9KYTp5",
    "outputId": "d4f240ef-5f59-4d90-e3a2-57b98ced3928",
    "papermill": {
     "duration": 0.055161,
     "end_time": "2022-11-13T14:26:38.569830",
     "exception": false,
     "start_time": "2022-11-13T14:26:38.514669",
     "status": "completed"
    },
    "tags": []
   },
   "outputs": [
    {
     "name": "stdout",
     "output_type": "stream",
     "text": [
      "testing accuracy: 0.68\n"
     ]
    }
   ],
   "source": [
    "from sklearn.metrics import accuracy_score\n",
    "\n",
    "print('testing accuracy: {}'.format(round(accuracy_score(label_decode(label_encoder, y_test), pred_result), 2)))"
   ]
  },
  {
   "cell_type": "code",
   "execution_count": 46,
   "id": "039c135c",
   "metadata": {
    "execution": {
     "iopub.execute_input": "2022-11-13T14:26:38.656776Z",
     "iopub.status.busy": "2022-11-13T14:26:38.656355Z",
     "iopub.status.idle": "2022-11-13T14:26:38.677961Z",
     "shell.execute_reply": "2022-11-13T14:26:38.676506Z"
    },
    "id": "ks2Q0aMsYTp5",
    "outputId": "8b802a69-6377-4f0a-c1fa-2f03e5abebd4",
    "papermill": {
     "duration": 0.06797,
     "end_time": "2022-11-13T14:26:38.680720",
     "exception": false,
     "start_time": "2022-11-13T14:26:38.612750",
     "status": "completed"
    },
    "tags": []
   },
   "outputs": [
    {
     "data": {
      "text/html": [
       "<div>\n",
       "<style scoped>\n",
       "    .dataframe tbody tr th:only-of-type {\n",
       "        vertical-align: middle;\n",
       "    }\n",
       "\n",
       "    .dataframe tbody tr th {\n",
       "        vertical-align: top;\n",
       "    }\n",
       "\n",
       "    .dataframe thead th {\n",
       "        text-align: right;\n",
       "    }\n",
       "</style>\n",
       "<table border=\"1\" class=\"dataframe\">\n",
       "  <thead>\n",
       "    <tr style=\"text-align: right;\">\n",
       "      <th></th>\n",
       "      <th>epoch</th>\n",
       "      <th>accuracy</th>\n",
       "      <th>loss</th>\n",
       "      <th>val_accuracy</th>\n",
       "      <th>val_loss</th>\n",
       "    </tr>\n",
       "  </thead>\n",
       "  <tbody>\n",
       "    <tr>\n",
       "      <th>0</th>\n",
       "      <td>0</td>\n",
       "      <td>0.362026</td>\n",
       "      <td>1.330947</td>\n",
       "      <td>0.412104</td>\n",
       "      <td>1.287090</td>\n",
       "    </tr>\n",
       "    <tr>\n",
       "      <th>1</th>\n",
       "      <td>1</td>\n",
       "      <td>0.633546</td>\n",
       "      <td>1.007665</td>\n",
       "      <td>0.631124</td>\n",
       "      <td>0.969793</td>\n",
       "    </tr>\n",
       "    <tr>\n",
       "      <th>2</th>\n",
       "      <td>2</td>\n",
       "      <td>0.788265</td>\n",
       "      <td>0.606087</td>\n",
       "      <td>0.688761</td>\n",
       "      <td>0.813258</td>\n",
       "    </tr>\n",
       "    <tr>\n",
       "      <th>3</th>\n",
       "      <td>3</td>\n",
       "      <td>0.840299</td>\n",
       "      <td>0.422644</td>\n",
       "      <td>0.691643</td>\n",
       "      <td>0.797067</td>\n",
       "    </tr>\n",
       "    <tr>\n",
       "      <th>4</th>\n",
       "      <td>4</td>\n",
       "      <td>0.877664</td>\n",
       "      <td>0.330738</td>\n",
       "      <td>0.685879</td>\n",
       "      <td>0.862986</td>\n",
       "    </tr>\n",
       "    <tr>\n",
       "      <th>5</th>\n",
       "      <td>5</td>\n",
       "      <td>0.907833</td>\n",
       "      <td>0.270426</td>\n",
       "      <td>0.682997</td>\n",
       "      <td>0.896923</td>\n",
       "    </tr>\n",
       "    <tr>\n",
       "      <th>6</th>\n",
       "      <td>6</td>\n",
       "      <td>0.930529</td>\n",
       "      <td>0.220031</td>\n",
       "      <td>0.680115</td>\n",
       "      <td>0.990457</td>\n",
       "    </tr>\n",
       "    <tr>\n",
       "      <th>7</th>\n",
       "      <td>7</td>\n",
       "      <td>0.943537</td>\n",
       "      <td>0.185730</td>\n",
       "      <td>0.671470</td>\n",
       "      <td>1.021262</td>\n",
       "    </tr>\n",
       "    <tr>\n",
       "      <th>8</th>\n",
       "      <td>8</td>\n",
       "      <td>0.952394</td>\n",
       "      <td>0.159508</td>\n",
       "      <td>0.685879</td>\n",
       "      <td>1.086689</td>\n",
       "    </tr>\n",
       "    <tr>\n",
       "      <th>9</th>\n",
       "      <td>9</td>\n",
       "      <td>0.958206</td>\n",
       "      <td>0.141881</td>\n",
       "      <td>0.688761</td>\n",
       "      <td>1.120128</td>\n",
       "    </tr>\n",
       "    <tr>\n",
       "      <th>10</th>\n",
       "      <td>10</td>\n",
       "      <td>0.966510</td>\n",
       "      <td>0.122177</td>\n",
       "      <td>0.691643</td>\n",
       "      <td>1.193996</td>\n",
       "    </tr>\n",
       "    <tr>\n",
       "      <th>11</th>\n",
       "      <td>11</td>\n",
       "      <td>0.971215</td>\n",
       "      <td>0.111323</td>\n",
       "      <td>0.682997</td>\n",
       "      <td>1.230466</td>\n",
       "    </tr>\n",
       "    <tr>\n",
       "      <th>12</th>\n",
       "      <td>12</td>\n",
       "      <td>0.969278</td>\n",
       "      <td>0.102555</td>\n",
       "      <td>0.682997</td>\n",
       "      <td>1.326720</td>\n",
       "    </tr>\n",
       "    <tr>\n",
       "      <th>13</th>\n",
       "      <td>13</td>\n",
       "      <td>0.973983</td>\n",
       "      <td>0.095383</td>\n",
       "      <td>0.682997</td>\n",
       "      <td>1.338182</td>\n",
       "    </tr>\n",
       "    <tr>\n",
       "      <th>14</th>\n",
       "      <td>14</td>\n",
       "      <td>0.971215</td>\n",
       "      <td>0.093007</td>\n",
       "      <td>0.662824</td>\n",
       "      <td>1.419522</td>\n",
       "    </tr>\n",
       "    <tr>\n",
       "      <th>15</th>\n",
       "      <td>15</td>\n",
       "      <td>0.973706</td>\n",
       "      <td>0.091687</td>\n",
       "      <td>0.662824</td>\n",
       "      <td>1.384623</td>\n",
       "    </tr>\n",
       "    <tr>\n",
       "      <th>16</th>\n",
       "      <td>16</td>\n",
       "      <td>0.974260</td>\n",
       "      <td>0.084512</td>\n",
       "      <td>0.654179</td>\n",
       "      <td>1.434770</td>\n",
       "    </tr>\n",
       "    <tr>\n",
       "      <th>17</th>\n",
       "      <td>17</td>\n",
       "      <td>0.974536</td>\n",
       "      <td>0.079477</td>\n",
       "      <td>0.668588</td>\n",
       "      <td>1.465480</td>\n",
       "    </tr>\n",
       "    <tr>\n",
       "      <th>18</th>\n",
       "      <td>18</td>\n",
       "      <td>0.977027</td>\n",
       "      <td>0.074666</td>\n",
       "      <td>0.668588</td>\n",
       "      <td>1.474009</td>\n",
       "    </tr>\n",
       "    <tr>\n",
       "      <th>19</th>\n",
       "      <td>19</td>\n",
       "      <td>0.977581</td>\n",
       "      <td>0.072043</td>\n",
       "      <td>0.654179</td>\n",
       "      <td>1.520453</td>\n",
       "    </tr>\n",
       "    <tr>\n",
       "      <th>20</th>\n",
       "      <td>20</td>\n",
       "      <td>0.976197</td>\n",
       "      <td>0.073620</td>\n",
       "      <td>0.671470</td>\n",
       "      <td>1.539228</td>\n",
       "    </tr>\n",
       "    <tr>\n",
       "      <th>21</th>\n",
       "      <td>21</td>\n",
       "      <td>0.977027</td>\n",
       "      <td>0.062697</td>\n",
       "      <td>0.651297</td>\n",
       "      <td>1.608705</td>\n",
       "    </tr>\n",
       "    <tr>\n",
       "      <th>22</th>\n",
       "      <td>22</td>\n",
       "      <td>0.977858</td>\n",
       "      <td>0.071229</td>\n",
       "      <td>0.659942</td>\n",
       "      <td>1.655973</td>\n",
       "    </tr>\n",
       "    <tr>\n",
       "      <th>23</th>\n",
       "      <td>23</td>\n",
       "      <td>0.977027</td>\n",
       "      <td>0.062288</td>\n",
       "      <td>0.668588</td>\n",
       "      <td>1.636471</td>\n",
       "    </tr>\n",
       "    <tr>\n",
       "      <th>24</th>\n",
       "      <td>24</td>\n",
       "      <td>0.977858</td>\n",
       "      <td>0.058616</td>\n",
       "      <td>0.677233</td>\n",
       "      <td>1.627761</td>\n",
       "    </tr>\n",
       "  </tbody>\n",
       "</table>\n",
       "</div>"
      ],
      "text/plain": [
       "    epoch  accuracy      loss  val_accuracy  val_loss\n",
       "0       0  0.362026  1.330947      0.412104  1.287090\n",
       "1       1  0.633546  1.007665      0.631124  0.969793\n",
       "2       2  0.788265  0.606087      0.688761  0.813258\n",
       "3       3  0.840299  0.422644      0.691643  0.797067\n",
       "4       4  0.877664  0.330738      0.685879  0.862986\n",
       "5       5  0.907833  0.270426      0.682997  0.896923\n",
       "6       6  0.930529  0.220031      0.680115  0.990457\n",
       "7       7  0.943537  0.185730      0.671470  1.021262\n",
       "8       8  0.952394  0.159508      0.685879  1.086689\n",
       "9       9  0.958206  0.141881      0.688761  1.120128\n",
       "10     10  0.966510  0.122177      0.691643  1.193996\n",
       "11     11  0.971215  0.111323      0.682997  1.230466\n",
       "12     12  0.969278  0.102555      0.682997  1.326720\n",
       "13     13  0.973983  0.095383      0.682997  1.338182\n",
       "14     14  0.971215  0.093007      0.662824  1.419522\n",
       "15     15  0.973706  0.091687      0.662824  1.384623\n",
       "16     16  0.974260  0.084512      0.654179  1.434770\n",
       "17     17  0.974536  0.079477      0.668588  1.465480\n",
       "18     18  0.977027  0.074666      0.668588  1.474009\n",
       "19     19  0.977581  0.072043      0.654179  1.520453\n",
       "20     20  0.976197  0.073620      0.671470  1.539228\n",
       "21     21  0.977027  0.062697      0.651297  1.608705\n",
       "22     22  0.977858  0.071229      0.659942  1.655973\n",
       "23     23  0.977027  0.062288      0.668588  1.636471\n",
       "24     24  0.977858  0.058616      0.677233  1.627761"
      ]
     },
     "execution_count": 46,
     "metadata": {},
     "output_type": "execute_result"
    }
   ],
   "source": [
    "#Let's take a look at the training log\n",
    "training_log = pd.DataFrame()\n",
    "training_log = pd.read_csv(\"./training_log.csv\")\n",
    "training_log"
   ]
  },
  {
   "cell_type": "markdown",
   "id": "d536c37e",
   "metadata": {
    "id": "NoYqY0-tYTp5",
    "papermill": {
     "duration": 0.041265,
     "end_time": "2022-11-13T14:26:38.765504",
     "exception": false,
     "start_time": "2022-11-13T14:26:38.724239",
     "status": "completed"
    },
    "tags": []
   },
   "source": [
    "---\n",
    "### ** >>> Exercise 6 (Take home): **  \n",
    "\n",
    "Plot the Training and Validation Accuracy and Loss (different plots), just like the images below.(Note: the pictures below are an example from a different model). How to interpret the graphs you got? How are they related to the concept of overfitting/underfitting covered in class?\n",
    "<table><tr>\n",
    "    <td><img src=\"pics/pic3.png\" style=\"width: 300px;\"/> </td>\n",
    "    <td><img src=\"pics/pic4.png\" style=\"width: 300px;\"/> </td>\n",
    "</tr></table>"
   ]
  },
  {
   "cell_type": "code",
   "execution_count": 47,
   "id": "89a737cc",
   "metadata": {
    "execution": {
     "iopub.execute_input": "2022-11-13T14:26:38.852938Z",
     "iopub.status.busy": "2022-11-13T14:26:38.852404Z",
     "iopub.status.idle": "2022-11-13T14:26:39.182443Z",
     "shell.execute_reply": "2022-11-13T14:26:39.180687Z"
    },
    "id": "AlhstCrlYTp5",
    "papermill": {
     "duration": 0.376901,
     "end_time": "2022-11-13T14:26:39.185397",
     "exception": false,
     "start_time": "2022-11-13T14:26:38.808496",
     "status": "completed"
    },
    "tags": []
   },
   "outputs": [
    {
     "data": {
      "image/png": "[encoded data removed]",
      "text/plain": [
       "<Figure size 720x288 with 2 Axes>"
      ]
     },
     "metadata": {
      "needs_background": "light"
     },
     "output_type": "display_data"
    }
   ],
   "source": [
    "# Answer here\n",
    "'''\n",
    "overfitting/underfitting?\n",
    "\n",
    "As the plot shown below, the val_loss goes up, the val_accuracy remains. \n",
    "By that, I think this model works well, with no overfitting or underfitting problem.\n",
    "'''\n",
    "\n",
    "# set figure size\n",
    "plt.figure(figsize=(10,4))\n",
    "\n",
    "# plot1, accuracy\n",
    "plt.subplot(1, 2, 1)\n",
    "\n",
    "plt.plot(history.history['accuracy'])\n",
    "plt.plot(history.history['val_accuracy'])\n",
    "plt.title('model accuracy')\n",
    "plt.ylabel('accuracy')\n",
    "plt.xlabel('epoch')\n",
    "plt.legend(['train', 'val'], loc='upper left')\n",
    "\n",
    "# plot2, loss\n",
    "plt.subplot(1, 2, 2)\n",
    "\n",
    "plt.plot(history.history['loss'])\n",
    "plt.plot(history.history['val_loss'])\n",
    "plt.title('model loss')\n",
    "plt.ylabel('loss')\n",
    "plt.xlabel('epoch')\n",
    "plt.legend(['train', 'val'], loc='upper left')\n",
    "\n",
    "# show both plot1 and plot2\n",
    "plt.show()\n",
    "\n"
   ]
  },
  {
   "cell_type": "markdown",
   "id": "ed8d022e",
   "metadata": {
    "papermill": {
     "duration": 0.046486,
     "end_time": "2022-11-13T14:26:39.279260",
     "exception": false,
     "start_time": "2022-11-13T14:26:39.232774",
     "status": "completed"
    },
    "tags": []
   },
   "source": [
    "#### ref. from [stackoverflow](https://stackoverflow.com/a/51705639)\n",
    "```{cite}\n",
    "Usually with every epoch increasing, loss goes lower and accuracy goes higher. But with val_loss and val_acc, many cases can be possible:\n",
    "\n",
    "1. val_loss starts increasing, val_acc starts decreasing(means model is cramming values not learning)\n",
    "\n",
    "2. val_loss starts increasing, val_acc also increases.(could be case of overfitting or diverse probability values in cases softmax is used in output layer)\n",
    "\n",
    "3. val_loss starts decreasing, val_acc starts increasing(Correct, means model build is learning and working fine)\n",
    "```"
   ]
  },
  {
   "cell_type": "markdown",
   "id": "ec12f2c2",
   "metadata": {
    "id": "UYabzgSGYTp5",
    "papermill": {
     "duration": 0.045013,
     "end_time": "2022-11-13T14:26:39.370355",
     "exception": false,
     "start_time": "2022-11-13T14:26:39.325342",
     "status": "completed"
    },
    "tags": []
   },
   "source": [
    "---"
   ]
  },
  {
   "cell_type": "markdown",
   "id": "f27b7f8d",
   "metadata": {
    "id": "4e5eiVLOYTp5",
    "papermill": {
     "duration": 0.044591,
     "end_time": "2022-11-13T14:26:39.460079",
     "exception": false,
     "start_time": "2022-11-13T14:26:39.415488",
     "status": "completed"
    },
    "tags": []
   },
   "source": [
    "### Note\n",
    "\n",
    "If you don't have a GPU (level is higher than GTX 1060) or you are not good at setting lots of things about computer, we recommend you to use the [kaggle kernel](https://www.kaggle.com/kernels) to do deep learning model training. They have already installed all the librarys and provided free GPU for you to use.\n",
    "\n",
    "Note however that you will only be able to run a kernel for 6 hours. After 6 hours of inactivity, your Kaggle kernel will shut down (meaning if your model takes more than 6 hours to train, you can't train it at once).\n",
    "\n",
    "\n",
    "### More Information for your reference\n",
    "\n",
    "* Keras document: https://keras.io/\n",
    "* Keras GitHub example: https://github.com/keras-team/keras/tree/master/examples\n",
    "* CS229: Machine Learning: http://cs229.stanford.edu/syllabus.html\n",
    "* Deep Learning cheatsheet: https://stanford.edu/~shervine/teaching/cs-229/cheatsheet-deep-learning\n",
    "* If you want to try TensorFlow or PyTorch: https://pytorch.org/tutorials/\n",
    "https://www.tensorflow.org/tutorials/quickstart/beginner"
   ]
  },
  {
   "cell_type": "markdown",
   "id": "e153ff54",
   "metadata": {
    "id": "IESBq48MYTp5",
    "papermill": {
     "duration": 0.043785,
     "end_time": "2022-11-13T14:26:39.547967",
     "exception": false,
     "start_time": "2022-11-13T14:26:39.504182",
     "status": "completed"
    },
    "tags": []
   },
   "source": [
    "---\n",
    "## 7. Word2Vector\n",
    "\n",
    "We will introduce how to use `gensim` to train your word2vec model and how to load a pre-trained model.\n",
    "\n",
    "https://radimrehurek.com/gensim/index.html"
   ]
  },
  {
   "cell_type": "markdown",
   "id": "f1480fc7",
   "metadata": {
    "id": "KRSDMhQ5YTp5",
    "papermill": {
     "duration": 0.043081,
     "end_time": "2022-11-13T14:26:39.636096",
     "exception": false,
     "start_time": "2022-11-13T14:26:39.593015",
     "status": "completed"
    },
    "tags": []
   },
   "source": [
    "### 7.1 Prepare training corpus"
   ]
  },
  {
   "cell_type": "code",
   "execution_count": 48,
   "id": "d1761ddd",
   "metadata": {
    "execution": {
     "iopub.execute_input": "2022-11-13T14:26:39.726844Z",
     "iopub.status.busy": "2022-11-13T14:26:39.726330Z",
     "iopub.status.idle": "2022-11-13T14:26:40.993218Z",
     "shell.execute_reply": "2022-11-13T14:26:40.991962Z"
    },
    "id": "6aBYrovJYTp5",
    "outputId": "3df27e8d-0a96-40a5-8e3d-3186bb1ea624",
    "papermill": {
     "duration": 1.315468,
     "end_time": "2022-11-13T14:26:40.995897",
     "exception": false,
     "start_time": "2022-11-13T14:26:39.680429",
     "status": "completed"
    },
    "tags": []
   },
   "outputs": [
    {
     "data": {
      "text/html": [
       "<div>\n",
       "<style scoped>\n",
       "    .dataframe tbody tr th:only-of-type {\n",
       "        vertical-align: middle;\n",
       "    }\n",
       "\n",
       "    .dataframe tbody tr th {\n",
       "        vertical-align: top;\n",
       "    }\n",
       "\n",
       "    .dataframe thead th {\n",
       "        text-align: right;\n",
       "    }\n",
       "</style>\n",
       "<table border=\"1\" class=\"dataframe\">\n",
       "  <thead>\n",
       "    <tr style=\"text-align: right;\">\n",
       "      <th></th>\n",
       "      <th>id</th>\n",
       "      <th>text</th>\n",
       "      <th>text_tokenized</th>\n",
       "    </tr>\n",
       "  </thead>\n",
       "  <tbody>\n",
       "    <tr>\n",
       "      <th>338</th>\n",
       "      <td>10338</td>\n",
       "      <td>@fireemblemlord it's the first expac since wra...</td>\n",
       "      <td>[@, fireemblemlord, it, 's, the, first, expac,...</td>\n",
       "    </tr>\n",
       "    <tr>\n",
       "      <th>1466</th>\n",
       "      <td>20609</td>\n",
       "      <td>@Joey7Barton I remember Joey slagging England ...</td>\n",
       "      <td>[@, Joey7Barton, I, remember, Joey, slagging, ...</td>\n",
       "    </tr>\n",
       "    <tr>\n",
       "      <th>1313</th>\n",
       "      <td>20456</td>\n",
       "      <td>If I was friends with me I'd hate me SO MUCH w...</td>\n",
       "      <td>[If, I, was, friends, with, me, I, 'd, hate, m...</td>\n",
       "    </tr>\n",
       "    <tr>\n",
       "      <th>1585</th>\n",
       "      <td>20728</td>\n",
       "      <td>courage the cowardly dog is like american horr...</td>\n",
       "      <td>[courage, the, cowardly, dog, is, like, americ...</td>\n",
       "    </tr>\n",
       "    <tr>\n",
       "      <th>3593</th>\n",
       "      <td>40766</td>\n",
       "      <td>also who has amazon prime that would like to h...</td>\n",
       "      <td>[also, who, has, amazon, prime, that, would, l...</td>\n",
       "    </tr>\n",
       "  </tbody>\n",
       "</table>\n",
       "</div>"
      ],
      "text/plain": [
       "         id                                               text  \\\n",
       "338   10338  @fireemblemlord it's the first expac since wra...   \n",
       "1466  20609  @Joey7Barton I remember Joey slagging England ...   \n",
       "1313  20456  If I was friends with me I'd hate me SO MUCH w...   \n",
       "1585  20728  courage the cowardly dog is like american horr...   \n",
       "3593  40766  also who has amazon prime that would like to h...   \n",
       "\n",
       "                                         text_tokenized  \n",
       "338   [@, fireemblemlord, it, 's, the, first, expac,...  \n",
       "1466  [@, Joey7Barton, I, remember, Joey, slagging, ...  \n",
       "1313  [If, I, was, friends, with, me, I, 'd, hate, m...  \n",
       "1585  [courage, the, cowardly, dog, is, like, americ...  \n",
       "3593  [also, who, has, amazon, prime, that, would, l...  "
      ]
     },
     "execution_count": 48,
     "metadata": {},
     "output_type": "execute_result"
    }
   ],
   "source": [
    "## check library\n",
    "import gensim\n",
    "\n",
    "## ignore warnings\n",
    "import warnings\n",
    "warnings.filterwarnings('ignore')\n",
    "\n",
    "# # if you want to see the training messages, you can use it\n",
    "# import logging\n",
    "# logging.basicConfig(format='%(asctime)s : %(levelname)s : %(message)s', level=logging.INFO)\n",
    "\n",
    "## the input type\n",
    "train_df['text_tokenized'] = train_df['text'].apply(lambda x: nltk.word_tokenize(x))\n",
    "train_df[['id', 'text', 'text_tokenized']].head()"
   ]
  },
  {
   "cell_type": "code",
   "execution_count": 49,
   "id": "325a9761",
   "metadata": {
    "execution": {
     "iopub.execute_input": "2022-11-13T14:26:41.089011Z",
     "iopub.status.busy": "2022-11-13T14:26:41.088549Z",
     "iopub.status.idle": "2022-11-13T14:26:41.097385Z",
     "shell.execute_reply": "2022-11-13T14:26:41.096142Z"
    },
    "id": "okFIEcmnYTp5",
    "outputId": "17a7ccde-3595-4837-f8d2-91698348fb22",
    "papermill": {
     "duration": 0.059825,
     "end_time": "2022-11-13T14:26:41.099778",
     "exception": false,
     "start_time": "2022-11-13T14:26:41.039953",
     "status": "completed"
    },
    "tags": []
   },
   "outputs": [
    {
     "data": {
      "text/plain": [
       "array([list(['@', 'fireemblemlord', 'it', \"'s\", 'the', 'first', 'expac', 'since', 'wrath', 'that', 'feels', 'like', 'a', 'proper', \"'evolution\", \"'\", 'of', 'the', 'game', 'for', 'me']),\n",
       "       list(['@', 'Joey7Barton', 'I', 'remember', 'Joey', 'slagging', 'England', 'player', \"'s\", 'off', 'bringing', 'out', 'books', 'after', 'crap', 'tournaments', '..', 'same', 'same', '..', 'crap', 'player', '#', 'bully']),\n",
       "       list(['If', 'I', 'was', 'friends', 'with', 'me', 'I', \"'d\", 'hate', 'me', 'SO', 'MUCH', 'with', 'the', 'amount', 'I', 'bully', 'them'])],\n",
       "      dtype=object)"
      ]
     },
     "execution_count": 49,
     "metadata": {},
     "output_type": "execute_result"
    }
   ],
   "source": [
    "## create the training corpus\n",
    "training_corpus = train_df['text_tokenized'].values\n",
    "training_corpus[:3]"
   ]
  },
  {
   "cell_type": "markdown",
   "id": "75a8b3fe",
   "metadata": {
    "id": "dOgAriPRYTp5",
    "papermill": {
     "duration": 0.042887,
     "end_time": "2022-11-13T14:26:41.187168",
     "exception": false,
     "start_time": "2022-11-13T14:26:41.144281",
     "status": "completed"
    },
    "tags": []
   },
   "source": [
    "### 7.2 Training our model\n",
    "\n",
    "You can try to train your own model. More details: https://radimrehurek.com/gensim/models/word2vec.html"
   ]
  },
  {
   "cell_type": "code",
   "execution_count": 50,
   "id": "ba8a37d7",
   "metadata": {
    "execution": {
     "iopub.execute_input": "2022-11-13T14:26:41.276361Z",
     "iopub.status.busy": "2022-11-13T14:26:41.275902Z",
     "iopub.status.idle": "2022-11-13T14:26:43.435264Z",
     "shell.execute_reply": "2022-11-13T14:26:43.433696Z"
    },
    "id": "72ZA54IDYTp5",
    "papermill": {
     "duration": 2.207601,
     "end_time": "2022-11-13T14:26:43.438630",
     "exception": false,
     "start_time": "2022-11-13T14:26:41.231029",
     "status": "completed"
    },
    "scrolled": true,
    "tags": []
   },
   "outputs": [],
   "source": [
    "from gensim.models import Word2Vec\n",
    "\n",
    "## setting\n",
    "vector_dim = 100\n",
    "window_size = 5\n",
    "min_count = 1\n",
    "training_epochs = 20\n",
    "\n",
    "## model\n",
    "word2vec_model = Word2Vec(sentences=training_corpus, \n",
    "                          vector_size=vector_dim, window=window_size, \n",
    "                          min_count=min_count, epochs=training_epochs)"
   ]
  },
  {
   "cell_type": "markdown",
   "id": "abbda298",
   "metadata": {
    "id": "ob0Molb3YTp5",
    "papermill": {
     "duration": 0.043477,
     "end_time": "2022-11-13T14:26:43.527916",
     "exception": false,
     "start_time": "2022-11-13T14:26:43.484439",
     "status": "completed"
    },
    "tags": []
   },
   "source": [
    "![Imgur](https://i.imgur.com/Fca3MCs.png)"
   ]
  },
  {
   "cell_type": "markdown",
   "id": "79a82d03",
   "metadata": {
    "id": "E0jjvjN5YTp5",
    "papermill": {
     "duration": 0.043776,
     "end_time": "2022-11-13T14:26:43.615472",
     "exception": false,
     "start_time": "2022-11-13T14:26:43.571696",
     "status": "completed"
    },
    "tags": []
   },
   "source": [
    "### 7.3 Generating word vector (embeddings)"
   ]
  },
  {
   "cell_type": "code",
   "execution_count": 51,
   "id": "653f751e",
   "metadata": {
    "execution": {
     "iopub.execute_input": "2022-11-13T14:26:43.706725Z",
     "iopub.status.busy": "2022-11-13T14:26:43.706239Z",
     "iopub.status.idle": "2022-11-13T14:26:43.715013Z",
     "shell.execute_reply": "2022-11-13T14:26:43.713860Z"
    },
    "id": "4ejofZfCYTp5",
    "outputId": "b6e8683c-4368-41e4-b05b-868822b9c406",
    "papermill": {
     "duration": 0.058043,
     "end_time": "2022-11-13T14:26:43.717398",
     "exception": false,
     "start_time": "2022-11-13T14:26:43.659355",
     "status": "completed"
    },
    "tags": []
   },
   "outputs": [
    {
     "data": {
      "text/plain": [
       "array([ 4.2986196e-01, -7.3440693e-02,  2.3089688e-01, -8.8941343e-02,\n",
       "       -2.4258064e-01, -7.9473841e-01,  9.7583747e-01,  1.2589415e+00,\n",
       "       -2.5247782e-01, -8.1140131e-01, -4.5833734e-01, -1.0281980e+00,\n",
       "       -5.8125311e-01,  2.7626586e-01, -3.5539716e-01, -6.1274439e-01,\n",
       "        1.8448199e-01, -3.0732343e-01,  1.0309148e-01, -1.1837291e+00,\n",
       "        8.4890574e-01,  1.2246585e+00,  5.2855712e-01,  4.1264689e-01,\n",
       "        3.7599882e-01,  2.4933101e-01, -4.5838809e-01,  5.7179672e-01,\n",
       "       -4.9244758e-01,  4.0029371e-01,  1.7054142e-01, -4.5843938e-01,\n",
       "        2.0222235e-01, -7.7085000e-01, -3.9933000e-02,  7.4966514e-01,\n",
       "        2.6983535e-01,  1.0091810e-01, -1.2460922e-01, -5.3609776e-01,\n",
       "       -2.8113032e-02,  5.4157406e-02, -7.7774394e-01,  3.5162917e-01,\n",
       "        7.6518130e-01, -3.7197676e-01, -8.8396943e-01,  2.4180172e-01,\n",
       "        4.0899202e-01,  3.4368509e-01,  3.8299930e-01, -6.1896449e-01,\n",
       "        1.0314585e-01, -2.9898685e-01, -4.3473595e-01, -3.3742118e-01,\n",
       "        4.4337866e-01, -1.3132243e-02, -7.3765017e-02,  5.9846140e-02,\n",
       "       -2.4587896e-02, -4.1312683e-01,  5.2810979e-01,  2.9205078e-01,\n",
       "       -7.3196620e-01,  1.1351402e+00,  3.8070500e-01,  6.5770125e-01,\n",
       "       -1.3262410e+00,  5.0434047e-01,  2.3112141e-01,  7.0642382e-01,\n",
       "        4.8367453e-01, -5.1479757e-01,  6.6908228e-01,  3.5806034e-02,\n",
       "        5.3065246e-01,  1.0199786e-01, -8.5384570e-02,  8.3870091e-02,\n",
       "       -8.5568404e-01, -4.8265070e-01, -5.4222655e-01,  4.2974600e-01,\n",
       "        3.0838636e-01, -4.9058658e-01,  7.6114827e-01,  3.8100857e-01,\n",
       "        6.1567682e-01,  5.0023884e-01,  1.0150280e+00,  4.2183921e-01,\n",
       "        5.5648810e-01, -8.9037910e-02,  8.4969771e-01, -2.6748062e-04,\n",
       "        5.0905362e-02,  8.1448279e-02,  1.2619887e-01, -8.4928632e-02],\n",
       "      dtype=float32)"
      ]
     },
     "execution_count": 51,
     "metadata": {},
     "output_type": "execute_result"
    }
   ],
   "source": [
    "# get the corresponding vector of a word\n",
    "word_vec = word2vec_model.wv['happy'] # this can be any word\n",
    "word_vec"
   ]
  },
  {
   "cell_type": "code",
   "execution_count": 52,
   "id": "940e7212",
   "metadata": {
    "execution": {
     "iopub.execute_input": "2022-11-13T14:26:43.808143Z",
     "iopub.status.busy": "2022-11-13T14:26:43.807429Z",
     "iopub.status.idle": "2022-11-13T14:26:43.832049Z",
     "shell.execute_reply": "2022-11-13T14:26:43.830549Z"
    },
    "id": "9dUSkCscYTp5",
    "outputId": "ebd32d0b-bcda-4140-805e-35dfef1a68fb",
    "papermill": {
     "duration": 0.074441,
     "end_time": "2022-11-13T14:26:43.836562",
     "exception": false,
     "start_time": "2022-11-13T14:26:43.762121",
     "status": "completed"
    },
    "tags": []
   },
   "outputs": [
    {
     "data": {
      "text/plain": [
       "[('cats', 0.9179224371910095),\n",
       " ('birthday', 0.9177943468093872),\n",
       " ('bday', 0.9131596684455872),\n",
       " ('right', 0.9125434756278992),\n",
       " ('free', 0.911626398563385),\n",
       " ('Really', 0.9106111526489258),\n",
       " ('Be', 0.9077661037445068),\n",
       " ('help', 0.902393102645874),\n",
       " ('angry', 0.8997167944908142),\n",
       " ('🕋', 0.8988591432571411)]"
      ]
     },
     "execution_count": 52,
     "metadata": {},
     "output_type": "execute_result"
    }
   ],
   "source": [
    "# Get the most similar words\n",
    "word = 'happy'\n",
    "topn = 10\n",
    "word2vec_model.wv.most_similar(word, topn=topn)"
   ]
  },
  {
   "cell_type": "markdown",
   "id": "4a0369bb",
   "metadata": {
    "id": "zuQvZVJvYTp5",
    "papermill": {
     "duration": 0.04473,
     "end_time": "2022-11-13T14:26:43.988257",
     "exception": false,
     "start_time": "2022-11-13T14:26:43.943527",
     "status": "completed"
    },
    "tags": []
   },
   "source": [
    "### 7.4 Using a pre-trained w2v model\n",
    "\n",
    "Instead of training your own model ,you can use a model that has already been trained. Here, we see 2 ways of doing that:\n",
    "\n",
    "\n",
    "#### (1) Download model by yourself\n",
    "\n",
    "source: [GoogleNews-vectors-negative300](https://code.google.com/archive/p/word2vec/)\n",
    "\n",
    "more details: https://radimrehurek.com/gensim/models/keyedvectors.html"
   ]
  },
  {
   "cell_type": "code",
   "execution_count": 53,
   "id": "799636bb",
   "metadata": {
    "execution": {
     "iopub.execute_input": "2022-11-13T14:26:44.078252Z",
     "iopub.status.busy": "2022-11-13T14:26:44.077820Z",
     "iopub.status.idle": "2022-11-13T14:28:09.959134Z",
     "shell.execute_reply": "2022-11-13T14:28:09.957807Z"
    },
    "id": "bdH9E9auYTp5",
    "outputId": "6193f5df-93cb-4c77-96fb-2d36b5d71835",
    "papermill": {
     "duration": 85.931997,
     "end_time": "2022-11-13T14:28:09.964698",
     "exception": false,
     "start_time": "2022-11-13T14:26:44.032701",
     "status": "completed"
    },
    "tags": []
   },
   "outputs": [
    {
     "name": "stdout",
     "output_type": "stream",
     "text": [
      "load ok\n"
     ]
    },
    {
     "data": {
      "text/plain": [
       "[('glad', 0.7408890724182129),\n",
       " ('pleased', 0.6632170677185059),\n",
       " ('ecstatic', 0.6626912355422974),\n",
       " ('overjoyed', 0.6599286794662476),\n",
       " ('thrilled', 0.6514049172401428),\n",
       " ('satisfied', 0.6437949538230896),\n",
       " ('proud', 0.636042058467865),\n",
       " ('delighted', 0.627237856388092),\n",
       " ('disappointed', 0.6269949674606323),\n",
       " ('excited', 0.6247665286064148)]"
      ]
     },
     "execution_count": 53,
     "metadata": {},
     "output_type": "execute_result"
    }
   ],
   "source": [
    "from gensim.models import KeyedVectors\n",
    "\n",
    "## Note: this model is very huge, this will take some time ...\n",
    "model_path = \"../input/googlenews/GoogleNews-vectors-negative300.bin\"\n",
    "w2v_google_model = KeyedVectors.load_word2vec_format(model_path, binary=True)\n",
    "print('load ok')\n",
    "\n",
    "w2v_google_model.most_similar('happy', topn=10)"
   ]
  },
  {
   "cell_type": "markdown",
   "id": "5f81e034",
   "metadata": {
    "id": "NdQ9ul0eYTp5",
    "papermill": {
     "duration": 0.045553,
     "end_time": "2022-11-13T14:28:10.085700",
     "exception": false,
     "start_time": "2022-11-13T14:28:10.040147",
     "status": "completed"
    },
    "tags": []
   },
   "source": [
    "#### (2) Using gensim api\n",
    "\n",
    "Other pretrained models are available here: https://github.com/RaRe-Technologies/gensim-data"
   ]
  },
  {
   "cell_type": "code",
   "execution_count": 54,
   "id": "474bdbc8",
   "metadata": {
    "execution": {
     "iopub.execute_input": "2022-11-13T14:28:10.179088Z",
     "iopub.status.busy": "2022-11-13T14:28:10.178613Z",
     "iopub.status.idle": "2022-11-13T14:29:07.551163Z",
     "shell.execute_reply": "2022-11-13T14:29:07.549141Z"
    },
    "id": "oIxHpNB6YTp5",
    "outputId": "8dc8d6f9-80b3-4cff-810d-28f175f5b891",
    "papermill": {
     "duration": 58.404941,
     "end_time": "2022-11-13T14:29:08.535827",
     "exception": false,
     "start_time": "2022-11-13T14:28:10.130886",
     "status": "completed"
    },
    "tags": []
   },
   "outputs": [
    {
     "name": "stdout",
     "output_type": "stream",
     "text": [
      "[==================================================] 100.0% 104.8/104.8MB downloaded\n",
      "load ok\n"
     ]
    },
    {
     "data": {
      "text/plain": [
       "[('birthday', 0.9577818512916565),\n",
       " ('thank', 0.937666654586792),\n",
       " ('welcome', 0.93361496925354),\n",
       " ('love', 0.9176183342933655),\n",
       " ('miss', 0.9164500832557678),\n",
       " ('hello', 0.9158351421356201),\n",
       " ('thanks', 0.915008544921875),\n",
       " ('merry', 0.9053249359130859),\n",
       " ('bless', 0.902732253074646),\n",
       " ('wish', 0.9013164043426514)]"
      ]
     },
     "execution_count": 54,
     "metadata": {},
     "output_type": "execute_result"
    }
   ],
   "source": [
    "import gensim.downloader as api\n",
    "\n",
    "## If you see `SSL: CERTIFICATE_VERIFY_FAILED` error, use this:\n",
    "import ssl\n",
    "import urllib.request\n",
    "ssl._create_default_https_context = ssl._create_unverified_context\n",
    "\n",
    "glove_twitter_25_model = api.load(\"glove-twitter-25\")\n",
    "print('load ok')\n",
    "\n",
    "glove_twitter_25_model.most_similar('happy', topn=10)"
   ]
  },
  {
   "cell_type": "markdown",
   "id": "538aa73d",
   "metadata": {
    "id": "GCNDNqeXYTp5",
    "papermill": {
     "duration": 0.892511,
     "end_time": "2022-11-13T14:29:10.432457",
     "exception": false,
     "start_time": "2022-11-13T14:29:09.539946",
     "status": "completed"
    },
    "tags": []
   },
   "source": [
    "### 7.5 king + woman - man = ?"
   ]
  },
  {
   "cell_type": "markdown",
   "id": "90f5d2c3",
   "metadata": {
    "id": "_GtCRr_7YTp5",
    "papermill": {
     "duration": 0.947444,
     "end_time": "2022-11-13T14:29:12.372035",
     "exception": false,
     "start_time": "2022-11-13T14:29:11.424591",
     "status": "completed"
    },
    "tags": []
   },
   "source": [
    "Let's run one of the most famous examples for Word2Vec and compute the similarity between these 3 words:"
   ]
  },
  {
   "cell_type": "code",
   "execution_count": 55,
   "id": "84f1a680",
   "metadata": {
    "execution": {
     "iopub.execute_input": "2022-11-13T14:29:14.162475Z",
     "iopub.status.busy": "2022-11-13T14:29:14.162039Z",
     "iopub.status.idle": "2022-11-13T14:29:15.007956Z",
     "shell.execute_reply": "2022-11-13T14:29:15.006247Z"
    },
    "id": "Zew7m_kIYTp5",
    "outputId": "807bc2d0-c2c1-4b96-e61d-a62e6096aa1e",
    "papermill": {
     "duration": 1.784219,
     "end_time": "2022-11-13T14:29:15.010810",
     "exception": false,
     "start_time": "2022-11-13T14:29:13.226591",
     "status": "completed"
    },
    "tags": []
   },
   "outputs": [
    {
     "data": {
      "text/plain": [
       "[('queen', 0.7118193507194519),\n",
       " ('monarch', 0.6189674139022827),\n",
       " ('princess', 0.5902431011199951),\n",
       " ('crown_prince', 0.5499460697174072),\n",
       " ('prince', 0.5377321839332581),\n",
       " ('kings', 0.5236844420433044),\n",
       " ('Queen_Consort', 0.5235945582389832),\n",
       " ('queens', 0.5181134343147278),\n",
       " ('sultan', 0.5098593831062317),\n",
       " ('monarchy', 0.5087411999702454)]"
      ]
     },
     "execution_count": 55,
     "metadata": {},
     "output_type": "execute_result"
    }
   ],
   "source": [
    "w2v_google_model.most_similar(positive=['king', 'woman'], negative=['man'])"
   ]
  },
  {
   "cell_type": "markdown",
   "id": "6930e4b3",
   "metadata": {
    "id": "y3RQVnBOYTp5",
    "papermill": {
     "duration": 1.017311,
     "end_time": "2022-11-13T14:29:16.932674",
     "exception": false,
     "start_time": "2022-11-13T14:29:15.915363",
     "status": "completed"
    },
    "tags": []
   },
   "source": [
    "---\n",
    "### ** >>> Exercise 7 (Take home): **  \n",
    "\n",
    "Now, we have the word vectors, but our input data is a sequence of words (or say sentence). \n",
    "How can we utilize these \"word\" vectors to represent the sentence data and train our model?\n"
   ]
  },
  {
   "cell_type": "code",
   "execution_count": 56,
   "id": "5e4a2d32",
   "metadata": {
    "execution": {
     "iopub.execute_input": "2022-11-13T14:29:18.766033Z",
     "iopub.status.busy": "2022-11-13T14:29:18.765277Z",
     "iopub.status.idle": "2022-11-13T14:29:18.771560Z",
     "shell.execute_reply": "2022-11-13T14:29:18.770222Z"
    },
    "id": "TBwRT93DYTp5",
    "papermill": {
     "duration": 0.94416,
     "end_time": "2022-11-13T14:29:18.774354",
     "exception": false,
     "start_time": "2022-11-13T14:29:17.830194",
     "status": "completed"
    },
    "tags": []
   },
   "outputs": [
    {
     "data": {
      "text/plain": [
       "'\\nWe can use One Hot Encoding.\\nAfter encodong, then we can consider the sentences into a word vectors.\\n'"
      ]
     },
     "execution_count": 56,
     "metadata": {},
     "output_type": "execute_result"
    }
   ],
   "source": [
    "# Answer here\n",
    "'''\n",
    "We can use One Hot Encoding.\n",
    "After encodong, then we can consider the sentences into a word vectors.\n",
    "'''"
   ]
  },
  {
   "cell_type": "markdown",
   "id": "82344c2b",
   "metadata": {
    "id": "LrK7O1KDYTp5",
    "papermill": {
     "duration": 0.850712,
     "end_time": "2022-11-13T14:29:20.549004",
     "exception": false,
     "start_time": "2022-11-13T14:29:19.698292",
     "status": "completed"
    },
    "tags": []
   },
   "source": [
    "### 8. Clustering: k-means\n",
    "\n",
    "Here we introduce how to use `sklearn` to do the basic **unsupervised learning** approach, k-means.    \n",
    "\n",
    "more details: http://scikit-learn.org/stable/modules/generated/sklearn.cluster.KMeans.html\n"
   ]
  },
  {
   "cell_type": "markdown",
   "id": "16816113",
   "metadata": {
    "id": "Hr8_IxwBYTp5",
    "papermill": {
     "duration": 0.859056,
     "end_time": "2022-11-13T14:29:22.348860",
     "exception": false,
     "start_time": "2022-11-13T14:29:21.489804",
     "status": "completed"
    },
    "tags": []
   },
   "source": [
    "#### Basic concept\n",
    "\n",
    "![Image](https://i.imgur.com/PEdUf54.png)\n",
    "\n",
    "(img source: https://towardsdatascience.com/k-means-clustering-identifying-f-r-i-e-n-d-s-in-the-world-of-strangers-695537505d)"
   ]
  },
  {
   "cell_type": "code",
   "execution_count": 57,
   "id": "2a9f4ca0",
   "metadata": {
    "execution": {
     "iopub.execute_input": "2022-11-13T14:29:24.201963Z",
     "iopub.status.busy": "2022-11-13T14:29:24.200851Z",
     "iopub.status.idle": "2022-11-13T14:29:24.209761Z",
     "shell.execute_reply": "2022-11-13T14:29:24.207776Z"
    },
    "id": "6heUPVwWYTp5",
    "outputId": "46a95152-7852-49d5-c055-f24ac1a04aa3",
    "papermill": {
     "duration": 0.945389,
     "end_time": "2022-11-13T14:29:24.213684",
     "exception": false,
     "start_time": "2022-11-13T14:29:23.268295",
     "status": "completed"
    },
    "tags": []
   },
   "outputs": [
    {
     "name": "stdout",
     "output_type": "stream",
     "text": [
      "target words:  ['happy', 'fear', 'angry', 'car', 'teacher', 'computer']\n"
     ]
    }
   ],
   "source": [
    "# clustering target\n",
    "target_list = ['happy', 'fear', 'angry', 'car', 'teacher', 'computer']\n",
    "print('target words: ', target_list)\n",
    "\n",
    "# convert to word vector\n",
    "X = [word2vec_model.wv[word] for word in target_list]"
   ]
  },
  {
   "cell_type": "code",
   "execution_count": 58,
   "id": "e2ea17b2",
   "metadata": {
    "execution": {
     "iopub.execute_input": "2022-11-13T14:29:26.011514Z",
     "iopub.status.busy": "2022-11-13T14:29:26.010967Z",
     "iopub.status.idle": "2022-11-13T14:29:26.301286Z",
     "shell.execute_reply": "2022-11-13T14:29:26.299782Z"
    },
    "id": "E9t_sJrvYTp5",
    "outputId": "47d70112-5490-47cc-8014-1b5b7dadbb26",
    "papermill": {
     "duration": 1.22595,
     "end_time": "2022-11-13T14:29:26.304837",
     "exception": false,
     "start_time": "2022-11-13T14:29:25.078887",
     "status": "completed"
    },
    "tags": []
   },
   "outputs": [
    {
     "name": "stdout",
     "output_type": "stream",
     "text": [
      "word: happy \t cluster: 1\n",
      "word: fear \t cluster: 1\n",
      "word: angry \t cluster: 1\n",
      "word: car \t cluster: 0\n",
      "word: teacher \t cluster: 0\n",
      "word: computer \t cluster: 0\n"
     ]
    }
   ],
   "source": [
    "from sklearn.cluster import KMeans\n",
    "\n",
    "# we have to decide how many cluster (k) we want\n",
    "k = 2\n",
    "\n",
    "# k-means model\n",
    "kmeans_model = KMeans(n_clusters=k)\n",
    "kmeans_model.fit(X)\n",
    "\n",
    "# cluster result\n",
    "cluster_result = kmeans_model.labels_\n",
    "\n",
    "# show\n",
    "for i in range(len(target_list)):\n",
    "    print('word: {} \\t cluster: {}'.format(target_list[i], cluster_result[i]))"
   ]
  },
  {
   "cell_type": "markdown",
   "id": "977a8af8",
   "metadata": {
    "id": "QcDTL7kRYTp5",
    "papermill": {
     "duration": 0.92059,
     "end_time": "2022-11-13T14:29:28.128736",
     "exception": false,
     "start_time": "2022-11-13T14:29:27.208146",
     "status": "completed"
    },
    "tags": []
   },
   "source": [
    "![Imgur](pics/pic6.png)"
   ]
  },
  {
   "cell_type": "code",
   "execution_count": 59,
   "id": "2a11b9e2",
   "metadata": {
    "execution": {
     "iopub.execute_input": "2022-11-13T14:29:29.954849Z",
     "iopub.status.busy": "2022-11-13T14:29:29.954254Z",
     "iopub.status.idle": "2022-11-13T14:29:30.237943Z",
     "shell.execute_reply": "2022-11-13T14:29:30.235811Z"
    },
    "id": "NIMFax_uYTp5",
    "outputId": "2f2df2f8-98d2-426b-8ced-719be6a03281",
    "papermill": {
     "duration": 1.169756,
     "end_time": "2022-11-13T14:29:30.242522",
     "exception": false,
     "start_time": "2022-11-13T14:29:29.072766",
     "status": "completed"
    },
    "tags": []
   },
   "outputs": [
    {
     "data": {
      "text/plain": [
       "array([0], dtype=int32)"
      ]
     },
     "execution_count": 59,
     "metadata": {},
     "output_type": "execute_result"
    }
   ],
   "source": [
    "#check cluster membership\n",
    "word = 'student'\n",
    "word_vec = word2vec_model.wv[word]\n",
    "kmeans_model.predict([word_vec])"
   ]
  },
  {
   "cell_type": "code",
   "execution_count": 60,
   "id": "95306d70",
   "metadata": {
    "execution": {
     "iopub.execute_input": "2022-11-13T14:29:32.168753Z",
     "iopub.status.busy": "2022-11-13T14:29:32.168222Z",
     "iopub.status.idle": "2022-11-13T14:29:32.191764Z",
     "shell.execute_reply": "2022-11-13T14:29:32.190880Z"
    },
    "id": "vIDuLDOlYTp5",
    "outputId": "eae37f20-1de0-498d-a327-ce60d7336fb0",
    "papermill": {
     "duration": 0.89994,
     "end_time": "2022-11-13T14:29:32.195325",
     "exception": false,
     "start_time": "2022-11-13T14:29:31.295385",
     "status": "completed"
    },
    "tags": []
   },
   "outputs": [
    {
     "data": {
      "text/plain": [
       "array([1], dtype=int32)"
      ]
     },
     "execution_count": 60,
     "metadata": {},
     "output_type": "execute_result"
    }
   ],
   "source": [
    "#check cluster membership\n",
    "word = 'sad'\n",
    "word_vec = word2vec_model.wv[word]\n",
    "kmeans_model.predict([word_vec])"
   ]
  },
  {
   "cell_type": "markdown",
   "id": "b95e2db6",
   "metadata": {
    "id": "cZOEGH3GYTp5",
    "papermill": {
     "duration": 0.952295,
     "end_time": "2022-11-13T14:29:34.106228",
     "exception": false,
     "start_time": "2022-11-13T14:29:33.153933",
     "status": "completed"
    },
    "tags": []
   },
   "source": [
    "\n",
    "## 9. High-dimension Visualization: t-SNE\n",
    "\n",
    "No matter if you use the Bag-of-words, TF-IDF, or Word2Vec, it's very hard to see the embedding result, because the dimension is larger than 3.  \n",
    "\n",
    "In Lab 1, we already talked about PCA. We can use PCA to reduce the dimension of our data, then visualize it. However, if you dig deeper into the result, you'd find it is insufficient.\n",
    "\n",
    "Our aim will be to create a visualization similar to the one below:"
   ]
  },
  {
   "cell_type": "markdown",
   "id": "829f88ac",
   "metadata": {
    "id": "4FeIFzzxYTp5",
    "papermill": {
     "duration": 0.925148,
     "end_time": "2022-11-13T14:29:35.905153",
     "exception": false,
     "start_time": "2022-11-13T14:29:34.980005",
     "status": "completed"
    },
    "tags": []
   },
   "source": [
    "  "
   ]
  },
  {
   "cell_type": "markdown",
   "id": "07521a61",
   "metadata": {
    "id": "3-JR-rqyYTp5",
    "papermill": {
     "duration": 0.947609,
     "end_time": "2022-11-13T14:29:37.721509",
     "exception": false,
     "start_time": "2022-11-13T14:29:36.773900",
     "status": "completed"
    },
    "tags": []
   },
   "source": [
    "![Image](pics/pic7.png)\n",
    "source: https://www.fabian-keller.de/research/high-dimensional-data-visualization "
   ]
  },
  {
   "cell_type": "markdown",
   "id": "b593ebb8",
   "metadata": {
    "id": "KCFR771SYTp5",
    "papermill": {
     "duration": 0.845981,
     "end_time": "2022-11-13T14:29:39.487303",
     "exception": false,
     "start_time": "2022-11-13T14:29:38.641322",
     "status": "completed"
    },
    "tags": []
   },
   "source": [
    "  "
   ]
  },
  {
   "cell_type": "markdown",
   "id": "f6bc65a9",
   "metadata": {
    "id": "tmdbJbjxYTp5",
    "papermill": {
     "duration": 0.851038,
     "end_time": "2022-11-13T14:29:41.252451",
     "exception": false,
     "start_time": "2022-11-13T14:29:40.401413",
     "status": "completed"
    },
    "tags": []
   },
   "source": [
    "Here we would like to introduce another visualization method called t-SNE.  \n",
    "http://scikit-learn.org/stable/modules/generated/sklearn.manifold.TSNE.html "
   ]
  },
  {
   "cell_type": "markdown",
   "id": "1592ba23",
   "metadata": {
    "id": "MU8eeDnGYTp5",
    "papermill": {
     "duration": 0.922107,
     "end_time": "2022-11-13T14:29:43.084166",
     "exception": false,
     "start_time": "2022-11-13T14:29:42.162059",
     "status": "completed"
    },
    "tags": []
   },
   "source": [
    "### 9.1 Prepare visualizing target"
   ]
  },
  {
   "cell_type": "markdown",
   "id": "3948f927",
   "metadata": {
    "id": "T9IHcP3VYTp5",
    "papermill": {
     "duration": 0.913121,
     "end_time": "2022-11-13T14:29:44.851937",
     "exception": false,
     "start_time": "2022-11-13T14:29:43.938816",
     "status": "completed"
    },
    "tags": []
   },
   "source": [
    "Let's prepare data lists like:\n",
    "- happy words\n",
    "- angry words\n",
    "- data words\n",
    "- mining words"
   ]
  },
  {
   "cell_type": "code",
   "execution_count": 61,
   "id": "18683d48",
   "metadata": {
    "execution": {
     "iopub.execute_input": "2022-11-13T14:29:46.622285Z",
     "iopub.status.busy": "2022-11-13T14:29:46.621840Z",
     "iopub.status.idle": "2022-11-13T14:29:47.927968Z",
     "shell.execute_reply": "2022-11-13T14:29:47.926287Z"
    },
    "id": "L9il5L7pYTp5",
    "outputId": "91d18f86-d137-4771-94db-ca7542d5a8d6",
    "papermill": {
     "duration": 2.235843,
     "end_time": "2022-11-13T14:29:47.933176",
     "exception": false,
     "start_time": "2022-11-13T14:29:45.697333",
     "status": "completed"
    },
    "tags": []
   },
   "outputs": [
    {
     "name": "stdout",
     "output_type": "stream",
     "text": [
      "happy_words:  ['happy', 'glad', 'pleased', 'ecstatic', 'overjoyed', 'thrilled']\n",
      "angry_words:  ['angry', 'irate', 'enraged', 'indignant', 'incensed', 'annoyed']\n",
      "data_words:  ['data', 'Data', 'datasets', 'dataset', 'databases', 'statistics']\n",
      "mining_words:  ['mining', 'Mining', 'mines', 'coal_mining', 'mine', 'miner']\n",
      "\n",
      "target words: \n",
      "['happy', 'glad', 'pleased', 'ecstatic', 'overjoyed', 'thrilled', 'angry', 'irate', 'enraged', 'indignant', 'incensed', 'annoyed', 'data', 'Data', 'datasets', 'dataset', 'databases', 'statistics', 'mining', 'Mining', 'mines', 'coal_mining', 'mine', 'miner']\n",
      "\n",
      "color list:\n",
      "['b', 'b', 'b', 'b', 'b', 'b', 'g', 'g', 'g', 'g', 'g', 'g', 'r', 'r', 'r', 'r', 'r', 'r', 'y', 'y', 'y', 'y', 'y', 'y']\n"
     ]
    }
   ],
   "source": [
    "word_list = ['happy', 'angry', 'data', 'mining']\n",
    "\n",
    "topn = 5\n",
    "happy_words = ['happy'] + [word_ for word_, sim_ in w2v_google_model.most_similar('happy', topn=topn)]\n",
    "angry_words = ['angry'] + [word_ for word_, sim_ in w2v_google_model.most_similar('angry', topn=topn)]        \n",
    "data_words = ['data'] + [word_ for word_, sim_ in w2v_google_model.most_similar('data', topn=topn)]        \n",
    "mining_words = ['mining'] + [word_ for word_, sim_ in w2v_google_model.most_similar('mining', topn=topn)]        \n",
    "\n",
    "print('happy_words: ', happy_words)\n",
    "print('angry_words: ', angry_words)\n",
    "print('data_words: ', data_words)\n",
    "print('mining_words: ', mining_words)\n",
    "\n",
    "target_words = happy_words + angry_words + data_words + mining_words\n",
    "print('\\ntarget words: ')\n",
    "print(target_words)\n",
    "\n",
    "print('\\ncolor list:')\n",
    "cn = topn + 1\n",
    "color = ['b'] * cn + ['g'] * cn + ['r'] * cn + ['y'] * cn\n",
    "print(color)"
   ]
  },
  {
   "cell_type": "markdown",
   "id": "a5a6e397",
   "metadata": {
    "id": "zKa5LRxbYTp5",
    "papermill": {
     "duration": 0.858284,
     "end_time": "2022-11-13T14:29:49.772692",
     "exception": false,
     "start_time": "2022-11-13T14:29:48.914408",
     "status": "completed"
    },
    "tags": []
   },
   "source": [
    "### 9.2 Plot using t-SNE (2-dimension)"
   ]
  },
  {
   "cell_type": "code",
   "execution_count": 62,
   "id": "832d7dde",
   "metadata": {
    "execution": {
     "iopub.execute_input": "2022-11-13T14:29:51.593281Z",
     "iopub.status.busy": "2022-11-13T14:29:51.592865Z",
     "iopub.status.idle": "2022-11-13T14:29:53.300350Z",
     "shell.execute_reply": "2022-11-13T14:29:53.296774Z"
    },
    "id": "CJlljN2gYTp5",
    "outputId": "cdd792e6-0a15-4189-d611-02b1aa42ddb1",
    "papermill": {
     "duration": 2.567983,
     "end_time": "2022-11-13T14:29:53.303607",
     "exception": false,
     "start_time": "2022-11-13T14:29:50.735624",
     "status": "completed"
    },
    "tags": []
   },
   "outputs": [
    {
     "data": {
      "image/png": "[encoded data removed]",
      "text/plain": [
       "<Figure size 862.5x862.5 with 1 Axes>"
      ]
     },
     "metadata": {
      "needs_background": "light"
     },
     "output_type": "display_data"
    }
   ],
   "source": [
    "%matplotlib inline\n",
    "import matplotlib.pyplot as plt\n",
    "from sklearn.manifold import TSNE\n",
    "\n",
    "## w2v model\n",
    "model = w2v_google_model\n",
    "\n",
    "## prepare training word vectors\n",
    "size = 200\n",
    "target_size = len(target_words)\n",
    "all_word = list(model.index_to_key)\n",
    "word_train = target_words + all_word[:size]\n",
    "X_train = model[word_train]\n",
    "\n",
    "## t-SNE model\n",
    "tsne = TSNE(n_components=2, metric='cosine', random_state=28)\n",
    "\n",
    "## training\n",
    "X_tsne = tsne.fit_transform(X_train)\n",
    "\n",
    "## plot the result\n",
    "plt.figure(figsize=(7.5, 7.5), dpi=115)\n",
    "plt.scatter(X_tsne[:target_size, 0], X_tsne[:target_size, 1], c=color)\n",
    "for label, x, y in zip(target_words, X_tsne[:target_size, 0], X_tsne[:target_size, 1]):\n",
    "    plt.annotate(label, xy=(x,y), xytext=(0,0),  textcoords='offset points')\n",
    "plt.show()"
   ]
  },
  {
   "cell_type": "markdown",
   "id": "fb7f9224",
   "metadata": {
    "id": "2PL61rqYYTp5",
    "papermill": {
     "duration": 0.925688,
     "end_time": "2022-11-13T14:29:55.165338",
     "exception": false,
     "start_time": "2022-11-13T14:29:54.239650",
     "status": "completed"
    },
    "tags": []
   },
   "source": [
    "---\n",
    "### ** >>> Exercise 8 (Take home): **  \n",
    "\n",
    "Generate a t-SNE visualization to show the 15 words most related to the words \"angry\", \"happy\", \"sad\", \"fear\" (60 words total)."
   ]
  },
  {
   "cell_type": "code",
   "execution_count": 63,
   "id": "93616e39",
   "metadata": {
    "execution": {
     "iopub.execute_input": "2022-11-13T14:29:56.936393Z",
     "iopub.status.busy": "2022-11-13T14:29:56.935900Z",
     "iopub.status.idle": "2022-11-13T14:30:00.474555Z",
     "shell.execute_reply": "2022-11-13T14:30:00.472797Z"
    },
    "id": "rvh7ymeNYTp5",
    "papermill": {
     "duration": 4.464102,
     "end_time": "2022-11-13T14:30:00.477591",
     "exception": false,
     "start_time": "2022-11-13T14:29:56.013489",
     "status": "completed"
    },
    "tags": []
   },
   "outputs": [
    {
     "name": "stdout",
     "output_type": "stream",
     "text": [
      "happy_words:  ['happy', 'glad', 'pleased', 'ecstatic', 'overjoyed', 'thrilled', 'satisfied', 'proud', 'delighted', 'disappointed', 'excited', 'happier', 'Said_Hirschbeck', 'elated', 'thankful', 'unhappy']\n",
      "angry_words:  ['angry', 'irate', 'enraged', 'indignant', 'incensed', 'annoyed', 'agitated', 'frustrated', 'furious', 'unhappy', 'outraged', 'livid', 'irritated', 'exasperated', 'angrier', 'Angry']\n",
      "sad_words:  ['sad', 'saddening', 'Sad', 'saddened', 'heartbreaking', 'disheartening', 'Meny_Friedman', 'parishioner_Pat_Patello', 'saddens_me', 'distressing', 'reminders_bobbing', 'Turkoman_Shiites', 'saddest', 'unfortunate', 'sorry', 'bittersweet']\n",
      "fear_words:  ['fear', 'fearful', 'fears', 'Fear', 'fearing', 'worry', 'dread', 'feared', 'anxiety', 'apprehension', 'afraid', 'worries', 'concern', 'distrust', 'worried', 'Fearful']\n",
      "\n",
      "target words: \n",
      "['angry', 'irate', 'enraged', 'indignant', 'incensed', 'annoyed', 'agitated', 'frustrated', 'furious', 'unhappy', 'outraged', 'livid', 'irritated', 'exasperated', 'angrier', 'Angry', 'happy', 'glad', 'pleased', 'ecstatic', 'overjoyed', 'thrilled', 'satisfied', 'proud', 'delighted', 'disappointed', 'excited', 'happier', 'Said_Hirschbeck', 'elated', 'thankful', 'unhappy', 'sad', 'saddening', 'Sad', 'saddened', 'heartbreaking', 'disheartening', 'Meny_Friedman', 'parishioner_Pat_Patello', 'saddens_me', 'distressing', 'reminders_bobbing', 'Turkoman_Shiites', 'saddest', 'unfortunate', 'sorry', 'bittersweet', 'fear', 'fearful', 'fears', 'Fear', 'fearing', 'worry', 'dread', 'feared', 'anxiety', 'apprehension', 'afraid', 'worries', 'concern', 'distrust', 'worried', 'Fearful']\n",
      "\n",
      "color list:\n",
      "['b', 'b', 'b', 'b', 'b', 'b', 'b', 'b', 'b', 'b', 'b', 'b', 'b', 'b', 'b', 'b', 'g', 'g', 'g', 'g', 'g', 'g', 'g', 'g', 'g', 'g', 'g', 'g', 'g', 'g', 'g', 'g', 'r', 'r', 'r', 'r', 'r', 'r', 'r', 'r', 'r', 'r', 'r', 'r', 'r', 'r', 'r', 'r', 'y', 'y', 'y', 'y', 'y', 'y', 'y', 'y', 'y', 'y', 'y', 'y', 'y', 'y', 'y', 'y']\n"
     ]
    },
    {
     "data": {
      "image/png": "[encoded data removed]",
      "text/plain": [
       "<Figure size 862.5x862.5 with 1 Axes>"
      ]
     },
     "metadata": {
      "needs_background": "light"
     },
     "output_type": "display_data"
    }
   ],
   "source": [
    "# Answer here\n",
    "\n",
    "## step 1: new word list\n",
    "word_list = ['angry', 'happy', 'sad', 'fear']\n",
    "\n",
    "topn = 15\n",
    "angry_words = ['angry'] + [word_ for word_, sim_ in w2v_google_model.most_similar('angry', topn=topn)]        \n",
    "happy_words = ['happy'] + [word_ for word_, sim_ in w2v_google_model.most_similar('happy', topn=topn)]\n",
    "sad_words = ['sad'] + [word_ for word_, sim_ in w2v_google_model.most_similar('sad', topn=topn)]        \n",
    "fear_words = ['fear'] + [word_ for word_, sim_ in w2v_google_model.most_similar('fear', topn=topn)]        \n",
    "\n",
    "print('happy_words: ', happy_words)\n",
    "print('angry_words: ', angry_words)\n",
    "print('sad_words: ', sad_words)\n",
    "print('fear_words: ', fear_words)\n",
    "\n",
    "target_words =  angry_words + happy_words + sad_words + fear_words\n",
    "print('\\ntarget words: ')\n",
    "print(target_words)\n",
    "\n",
    "print('\\ncolor list:')\n",
    "cn = topn + 1\n",
    "color = ['b'] * cn + ['g'] * cn + ['r'] * cn + ['y'] * cn\n",
    "print(color)\n",
    "## step 2: tsne\n",
    "%matplotlib inline\n",
    "import matplotlib.pyplot as plt\n",
    "from sklearn.manifold import TSNE\n",
    "\n",
    "## w2v model\n",
    "model = w2v_google_model\n",
    "\n",
    "## prepare training word vectors\n",
    "size = 200\n",
    "target_size = len(target_words)\n",
    "all_word = list(model.index_to_key)\n",
    "word_train = target_words + all_word[:size]\n",
    "X_train = model[word_train]\n",
    "\n",
    "## t-SNE model\n",
    "tsne = TSNE(n_components=2, metric='cosine', random_state=28)\n",
    "\n",
    "## training\n",
    "X_tsne = tsne.fit_transform(X_train)\n",
    "\n",
    "## plot the result\n",
    "plt.figure(figsize=(7.5, 7.5), dpi=115)\n",
    "plt.scatter(X_tsne[:target_size, 0], X_tsne[:target_size, 1], c=color)\n",
    "for label, x, y in zip(target_words, X_tsne[:target_size, 0], X_tsne[:target_size, 1]):\n",
    "    plt.annotate(label, xy=(x,y), xytext=(0,0),  textcoords='offset points')\n",
    "plt.show()"
   ]
  },
  {
   "cell_type": "markdown",
   "id": "4e2199ed",
   "metadata": {
    "id": "_fF1woa8YTp5",
    "papermill": {
     "duration": 0.914744,
     "end_time": "2022-11-13T14:30:02.247213",
     "exception": false,
     "start_time": "2022-11-13T14:30:01.332469",
     "status": "completed"
    },
    "tags": []
   },
   "source": [
    "---"
   ]
  }
 ],
 "metadata": {
  "kernelspec": {
   "display_name": "Python 3",
   "language": "python",
   "name": "python3"
  },
  "language_info": {
   "codemirror_mode": {
    "name": "ipython",
    "version": 3
   },
   "file_extension": ".py",
   "mimetype": "text/x-python",
   "name": "python",
   "nbconvert_exporter": "python",
   "pygments_lexer": "ipython3",
   "version": "3.7.12"
  },
  "papermill": {
   "default_parameters": {},
   "duration": 248.215493,
   "end_time": "2022-11-13T14:30:05.792118",
   "environment_variables": {},
   "exception": null,
   "input_path": "__notebook__.ipynb",
   "output_path": "__notebook__.ipynb",
   "parameters": {},
   "start_time": "2022-11-13T14:25:57.576625",
   "version": "2.3.4"
  }
 },
 "nbformat": 4,
 "nbformat_minor": 5
}
